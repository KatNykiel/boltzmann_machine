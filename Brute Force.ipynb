{
 "cells": [
  {
   "cell_type": "code",
   "execution_count": 2,
   "metadata": {},
   "outputs": [],
   "source": [
    "import numpy as np\n",
    "import matplotlib.pyplot as plt\n",
    "from numba import jit"
   ]
  },
  {
   "cell_type": "code",
   "execution_count": 3,
   "metadata": {},
   "outputs": [],
   "source": [
    "#Function to create random square array\n",
    "def gen_random_conf(n):\n",
    "    #input: n = length of array = width of array\n",
    "    #output: random 10x10 array (-1/2's and +1/2's)\n",
    "    \n",
    "    A = np.random.choice([-0.5,0.5], size=(n,n))\n",
    "    \n",
    "    return(A)"
   ]
  },
  {
   "cell_type": "code",
   "execution_count": 4,
   "metadata": {},
   "outputs": [
    {
     "data": {
      "text/plain": [
       "-5.0"
      ]
     },
     "execution_count": 4,
     "metadata": {},
     "output_type": "execute_result"
    }
   ],
   "source": [
    "#Compute energy as a function of J (i.e. assume J = 1)\n",
    "@jit(nopython=True)\n",
    "def calculate_energy(spin):\n",
    "    \n",
    "    #Determine if array is square\n",
    "    spin_shape = spin.shape\n",
    "    \n",
    "    #Should end if array is not square\n",
    "    if spin_shape[0] != spin_shape[1]:\n",
    "        print(\"This is not a square matrix\")\n",
    "    #Continues code if array is square    \n",
    "    elif spin_shape[0] == spin_shape[1]:\n",
    "        N = spin_shape[0]\n",
    "        \n",
    "        energy = 0\n",
    "        J = 1\n",
    "\n",
    "        for i in range(N):  # 0, N-1\n",
    "          for j in range(N): # 0, N-1\n",
    "            # calculate four interactions\n",
    "            for delta_i in range(-1,2,2):  # -1 and 1\n",
    "              ii = i + delta_i\n",
    "              if (ii < 0): \n",
    "                ii = ii + N\n",
    "              if (ii >=N): \n",
    "                ii = ii - N\n",
    "              energy = energy + spin[i,j]*spin[ii, j] #spin--> array name\n",
    "\n",
    "            for delta_j in range(-1,2,2):  # -1 and 1\n",
    "              jj = j + delta_j\n",
    "              if (jj < 0): \n",
    "                jj = jj + N\n",
    "              if (jj >=N): \n",
    "                jj = jj - N\n",
    "              energy = energy + spin[i,j]*spin[i, jj] \n",
    "\n",
    "    energy = -J * energy * 0.5\n",
    "    \n",
    "    return energy\n",
    "    \n",
    "calculate_energy(gen_random_conf(10))"
   ]
  },
  {
   "cell_type": "markdown",
   "metadata": {},
   "source": [
    "The Main code calculates avg. magnetism and avg. energy over a given number of configurations.\n",
    "$$ \\langle M\\rangle = \\frac{\\sum_j(M_j * e^{(-\\beta*E_j)})}{\\sum_j {e^{(-\\beta*E_j)}}}$$\n",
    "\n",
    "$$ \\langle E\\rangle = \\frac{\\sum_j(E_j * e^{(-\\beta*E_j)})}{\\sum_j {e^{(-\\beta*E_j)}}}$$\n",
    "\n",
    "$$ C = \\frac{\\partial E}{\\partial T} $$"
   ]
  },
  {
   "cell_type": "code",
   "execution_count": 9,
   "metadata": {
    "scrolled": true
   },
   "outputs": [
    {
     "name": "stderr",
     "output_type": "stream",
     "text": [
      "/apps/share64/debian7/anaconda/anaconda-6/lib/python3.7/site-packages/ipykernel_launcher.py:34: RuntimeWarning: overflow encountered in exp\n",
      "/apps/share64/debian7/anaconda/anaconda-6/lib/python3.7/site-packages/ipykernel_launcher.py:37: RuntimeWarning: invalid value encountered in double_scalars\n",
      "/apps/share64/debian7/anaconda/anaconda-6/lib/python3.7/site-packages/ipykernel_launcher.py:42: RuntimeWarning: invalid value encountered in double_scalars\n"
     ]
    }
   ],
   "source": [
    "#Main code\n",
    "\n",
    "k = 8.617E-5 #Boltzman constant (eV/K)\n",
    "T = 300 #K\n",
    "\n",
    "beta = 1 #J/kT\n",
    "#Number of configurations that will contribute to averages\n",
    "iterations = 10000\n",
    "#Array size\n",
    "N = 10\n",
    "\n",
    "#Intializing arrays\n",
    "beta_array, temp_array, energy_array, mag_array = [], [], [], []\n",
    "\n",
    "#Determing beta based on temperature & initializing variables/resetting variables after each loop\n",
    "for temp in np.linspace(0.0001, 1, 100):\n",
    "    beta = 1/temp\n",
    "    energy = 0.\n",
    "    magnetism = 0. \n",
    "    denominator = 0. \n",
    "    \n",
    "    #Generates given number of configurations and considers their energies/magnetizations in the averages\n",
    "    for i in range(iterations):\n",
    "        #Creates new random configuration\n",
    "        spin = gen_random_conf(N)\n",
    "        \n",
    "        #Calculates the magnetism of configuration\n",
    "        mag = np.sum(spin)/N/N \n",
    "\n",
    "        #Calculates the energy of configuration\n",
    "        e = calculate_energy(spin)/N/2\n",
    "        \n",
    "        #Determines bolztman weight\n",
    "        boltz = np.exp(-1*beta*e)\n",
    "        #Values are included in the summations(numerators of equations for avg. magetism and energy)\n",
    "        energy += e * boltz\n",
    "        magnetism += mag * boltz\n",
    "        denominator += boltz\n",
    "    \n",
    "    #Calculates average magnetism and energy\n",
    "    magnetism = magnetism/denominator\n",
    "    energy = energy/denominator\n",
    "\n",
    "\n",
    "\n",
    "    #Adds values to arrays\n",
    "    beta_array.append(beta)\n",
    "    temp_array.append(1/beta)\n",
    "    energy_array.append(energy)\n",
    "    mag_array.append(magnetism)"
   ]
  },
  {
   "cell_type": "code",
   "execution_count": 10,
   "metadata": {
    "scrolled": false
   },
   "outputs": [
    {
     "data": {
      "image/png": "[encoded data removed]",
      "text/plain": [
       "<Figure size 432x288 with 1 Axes>"
      ]
     },
     "metadata": {
      "needs_background": "light"
     },
     "output_type": "display_data"
    },
    {
     "data": {
      "image/png": "[encoded data removed]",
      "text/plain": [
       "<Figure size 432x288 with 1 Axes>"
      ]
     },
     "metadata": {
      "needs_background": "light"
     },
     "output_type": "display_data"
    }
   ],
   "source": [
    "plt.title(\"Energy vs. Temperature\") \n",
    "plt.xlabel(\"Temperature Scale (T*)\"); \n",
    "plt.ylabel(\"Energy\"); \n",
    "plt.plot(temp_array, energy_array) \n",
    "plt.show()\n",
    "\n",
    "plt.title(\"Magnetism vs. Temperature\")  \n",
    "plt.xlabel(\"Temperature Scale (T*)\"); \n",
    "plt.ylabel(\"Magnetization\"); \n",
    "plt.plot(temp_array, mag_array)\n",
    "\n",
    "plt.show()"
   ]
  },
  {
   "cell_type": "code",
   "execution_count": null,
   "metadata": {},
   "outputs": [],
   "source": []
  }
 ],
 "metadata": {
  "kernelspec": {
   "display_name": "Python 3",
   "language": "python",
   "name": "python3"
  },
  "language_info": {
   "codemirror_mode": {
    "name": "ipython",
    "version": 3
   },
   "file_extension": ".py",
   "mimetype": "text/x-python",
   "name": "python",
   "nbconvert_exporter": "python",
   "pygments_lexer": "ipython3",
   "version": "3.7.7"
  }
 },
 "nbformat": 4,
 "nbformat_minor": 2
}
