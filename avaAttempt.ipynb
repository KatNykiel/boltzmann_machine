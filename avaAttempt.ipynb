{
 "cells": [
  {
   "cell_type": "code",
   "execution_count": 1,
   "metadata": {},
   "outputs": [
    {
     "name": "stdout",
     "output_type": "stream",
     "text": [
      "3.3.1\n"
     ]
    }
   ],
   "source": [
    "#FIRST 2 CELLS ARE KAT'S WORK\n",
    "import  numpy as np\n",
    "import matplotlib.pyplot as plt\n",
    "\n",
    "import matplotlib\n",
    "print(matplotlib.__version__)"
   ]
  },
  {
   "cell_type": "code",
   "execution_count": 2,
   "metadata": {},
   "outputs": [
    {
     "ename": "NameError",
     "evalue": "name 'test_array' is not defined",
     "output_type": "error",
     "traceback": [
      "\u001b[0;31m---------------------------------------------------------------------------\u001b[0m",
      "\u001b[0;31mNameError\u001b[0m                                 Traceback (most recent call last)",
      "\u001b[0;32m<ipython-input-2-ab9382cce9b3>\u001b[0m in \u001b[0;36m<module>\u001b[0;34m\u001b[0m\n\u001b[1;32m     28\u001b[0m \u001b[0;34m\u001b[0m\u001b[0m\n\u001b[1;32m     29\u001b[0m \u001b[0;34m\u001b[0m\u001b[0m\n\u001b[0;32m---> 30\u001b[0;31m \u001b[0mget_ising_plot\u001b[0m\u001b[0;34m(\u001b[0m\u001b[0mtest_array\u001b[0m\u001b[0;34m)\u001b[0m\u001b[0;34m;\u001b[0m\u001b[0;34m\u001b[0m\u001b[0;34m\u001b[0m\u001b[0m\n\u001b[0m",
      "\u001b[0;31mNameError\u001b[0m: name 'test_array' is not defined"
     ]
    }
   ],
   "source": [
    "def get_ising_plot(array = [[1/2,-1/2],[-1/2,1/2]]):\n",
    "    # input: an NxN array corresponding to spins in an Ising model\n",
    "    # output: a visual representation of the array (matplotlib figure)\n",
    "\n",
    "    # Verify input is a square numpy array\n",
    "    ising_array = np.array(array)\n",
    "    if ising_array.shape[0] != ising_array.shape[1]:\n",
    "        print(\"Currently this code only supports square arrays, sorry!\")\n",
    "        return\n",
    "\n",
    "    # Create the figure\n",
    "    f = plt.figure()\n",
    "    nx = range(ising_array.shape[0])\n",
    "    ny = range(ising_array.shape[1])\n",
    "    X, Y = np.meshgrid(nx,ny)\n",
    "    plt.pcolormesh(X, Y, ising_array, cmap=plt.cm.Greys);\n",
    "\n",
    "    # Format the figure\n",
    "    frame = plt.gca()\n",
    "    frame.set_aspect('equal')\n",
    "    frame.axes.xaxis.set_visible(False)\n",
    "    frame.axes.yaxis.set_visible(False)\n",
    "    f.set_dpi(180)\n",
    "\n",
    "    plt.show()\n",
    "\n",
    "    return f\n",
    "\n",
    "\n",
    "get_ising_plot(test_array);"
   ]
  },
  {
   "cell_type": "code",
   "execution_count": 3,
   "metadata": {
    "scrolled": true
   },
   "outputs": [
    {
     "name": "stdout",
     "output_type": "stream",
     "text": [
      "[[0. 0.]\n",
      " [0. 1.]\n",
      " [1. 0.]\n",
      " [1. 1.]\n",
      " [2. 0.]\n",
      " [2. 1.]\n",
      " [3. 0.]\n",
      " [3. 1.]\n",
      " [4. 0.]\n",
      " [4. 1.]]\n"
     ]
    }
   ],
   "source": [
    "import numpy as np\n",
    "\n",
    "def testArray():\n",
    "    #input: null\n",
    "    #output: 10x2 array\n",
    "\n",
    "    n=2\n",
    "    X = np.empty(shape=[0, n])\n",
    "\n",
    "    for i in range(5):\n",
    "        for j  in range(2):\n",
    "            X = np.append(X, [[i, j]], axis=0)\n",
    "            \n",
    "    print(X)\n",
    "    \n",
    "testArray()\n"
   ]
  },
  {
   "cell_type": "code",
   "execution_count": 4,
   "metadata": {},
   "outputs": [
    {
     "name": "stdout",
     "output_type": "stream",
     "text": [
      "[[0. 0. 0. 0. 0. 0. 0. 0. 0. 0.]\n",
      " [0. 0. 0. 0. 0. 0. 0. 0. 0. 0.]\n",
      " [0. 0. 0. 0. 0. 0. 0. 0. 0. 0.]\n",
      " [0. 0. 0. 0. 0. 0. 0. 0. 0. 0.]\n",
      " [0. 0. 0. 0. 0. 0. 0. 0. 0. 0.]\n",
      " [0. 0. 0. 0. 0. 0. 0. 0. 0. 0.]\n",
      " [0. 0. 0. 0. 0. 0. 0. 0. 0. 0.]\n",
      " [0. 0. 0. 0. 0. 0. 0. 0. 0. 0.]\n",
      " [0. 0. 0. 0. 0. 0. 0. 0. 0. 0.]\n",
      " [0. 0. 0. 0. 0. 0. 0. 0. 0. 0.]]\n"
     ]
    }
   ],
   "source": [
    "import numpy as np\n",
    "\n",
    "def blankArray():\n",
    "    #input: null\n",
    "    #output: blank 10x10 array\n",
    "    \n",
    "    A = np.zeros(shape = (10,10))\n",
    "    \n",
    "    print(A)\n",
    "    \n",
    "blankArray()"
   ]
  },
  {
   "cell_type": "code",
   "execution_count": 5,
   "metadata": {
    "scrolled": false
   },
   "outputs": [
    {
     "name": "stdout",
     "output_type": "stream",
     "text": [
      "[[ 0.5  0.5  0.5  0.5 -0.5  0.5  0.5 -0.5 -0.5 -0.5]\n",
      " [-0.5 -0.5  0.5  0.5 -0.5 -0.5 -0.5  0.5  0.5  0.5]\n",
      " [-0.5  0.5  0.5  0.5  0.5 -0.5 -0.5 -0.5  0.5  0.5]\n",
      " [-0.5  0.5 -0.5 -0.5  0.5  0.5  0.5 -0.5  0.5 -0.5]\n",
      " [-0.5  0.5  0.5  0.5  0.5 -0.5 -0.5 -0.5 -0.5 -0.5]\n",
      " [ 0.5  0.5  0.5 -0.5 -0.5  0.5  0.5 -0.5 -0.5  0.5]\n",
      " [ 0.5 -0.5  0.5 -0.5  0.5 -0.5 -0.5  0.5  0.5 -0.5]\n",
      " [ 0.5 -0.5 -0.5  0.5 -0.5 -0.5  0.5  0.5 -0.5  0.5]\n",
      " [-0.5  0.5  0.5  0.5  0.5  0.5 -0.5 -0.5  0.5 -0.5]\n",
      " [ 0.5  0.5  0.5 -0.5  0.5  0.5 -0.5 -0.5 -0.5 -0.5]]\n"
     ]
    }
   ],
   "source": [
    "import numpy as np\n",
    "\n",
    "def genRandomConf_1_0():\n",
    "    #input: null\n",
    "    #output: random 10x10 array (0's and 1's)\n",
    "    \n",
    "    A = np.random.randint(0,2, size=(10,10))\n",
    "    \n",
    "    B = np.full((10, 10), 0.5)\n",
    "    \n",
    "    C = np.subtract(A, B)\n",
    "    \n",
    "    print(C)\n",
    "    \n",
    "genRandomConf_1_0()"
   ]
  },
  {
   "cell_type": "code",
   "execution_count": 6,
   "metadata": {
    "scrolled": true
   },
   "outputs": [
    {
     "name": "stdout",
     "output_type": "stream",
     "text": [
      "[[ 0.5  0.5  0.5  0.5  0.5  0.5 -0.5 -0.5  0.5  0.5]\n",
      " [ 0.5 -0.5 -0.5  0.5  0.5 -0.5  0.5 -0.5 -0.5 -0.5]\n",
      " [ 0.5  0.5  0.5 -0.5  0.5  0.5  0.5 -0.5 -0.5 -0.5]\n",
      " [ 0.5  0.5 -0.5  0.5 -0.5 -0.5  0.5 -0.5  0.5 -0.5]\n",
      " [ 0.5  0.5 -0.5 -0.5 -0.5 -0.5 -0.5  0.5  0.5 -0.5]\n",
      " [ 0.5  0.5  0.5 -0.5 -0.5 -0.5  0.5  0.5  0.5  0.5]\n",
      " [-0.5 -0.5 -0.5  0.5 -0.5 -0.5  0.5 -0.5 -0.5  0.5]\n",
      " [-0.5 -0.5 -0.5 -0.5  0.5  0.5 -0.5  0.5  0.5  0.5]\n",
      " [ 0.5 -0.5 -0.5  0.5 -0.5  0.5  0.5  0.5  0.5 -0.5]\n",
      " [-0.5  0.5  0.5 -0.5  0.5  0.5 -0.5 -0.5 -0.5  0.5]]\n"
     ]
    }
   ],
   "source": [
    "import numpy as np\n",
    "\n",
    "def genRandomConf_fixedN():\n",
    "    #input: null\n",
    "    #output: random 10x10 array (-1/2's and +1/2's)\n",
    "    \n",
    "    A = np.random.choice([-0.5,0.5], size=(10,10))\n",
    "    \n",
    "    print(A)\n",
    "    \n",
    "genRandomConf_fixedN()"
   ]
  },
  {
   "cell_type": "code",
   "execution_count": 7,
   "metadata": {
    "scrolled": true
   },
   "outputs": [
    {
     "data": {
      "text/plain": [
       "array([[ 0.5,  0.5,  0.5,  0.5,  0.5,  0.5, -0.5,  0.5],\n",
       "       [ 0.5,  0.5,  0.5,  0.5, -0.5,  0.5,  0.5,  0.5],\n",
       "       [ 0.5,  0.5,  0.5,  0.5, -0.5, -0.5, -0.5, -0.5],\n",
       "       [ 0.5, -0.5,  0.5, -0.5, -0.5, -0.5, -0.5, -0.5],\n",
       "       [ 0.5, -0.5,  0.5,  0.5,  0.5, -0.5, -0.5, -0.5],\n",
       "       [-0.5, -0.5, -0.5,  0.5,  0.5, -0.5, -0.5,  0.5],\n",
       "       [-0.5,  0.5, -0.5, -0.5,  0.5, -0.5, -0.5, -0.5],\n",
       "       [-0.5,  0.5, -0.5,  0.5, -0.5, -0.5,  0.5, -0.5]])"
      ]
     },
     "execution_count": 7,
     "metadata": {},
     "output_type": "execute_result"
    }
   ],
   "source": [
    "import numpy as np\n",
    "\n",
    "def genRandomConf_inputN(n):\n",
    "    #input: null\n",
    "    #output: random 10x10 array (-1/2's and +1/2's)\n",
    "    \n",
    "    A = np.random.choice([-0.5,0.5], size=(n,n))\n",
    "    \n",
    "    return(A)\n",
    "    \n",
    "genRandomConf_inputN(8)"
   ]
  },
  {
   "cell_type": "code",
   "execution_count": 8,
   "metadata": {},
   "outputs": [
    {
     "data": {
      "text/plain": [
       "6.0"
      ]
     },
     "execution_count": 8,
     "metadata": {},
     "output_type": "execute_result"
    }
   ],
   "source": [
    "import numpy as np\n",
    "\n",
    "def magnetismCalc(n):\n",
    "\n",
    "    \n",
    "    sum = np.sum(A)\n",
    "    #sum = nd.A.sum\n",
    "    #print(A)\n",
    "    \n",
    "    return sum\n",
    "    \n",
    "magnetismCalc(10)\n",
    "            "
   ]
  },
  {
   "cell_type": "code",
   "execution_count": 16,
   "metadata": {},
   "outputs": [],
   "source": [
    "import numpy as np\n",
    "\n",
    "def probabilityConf(E):\n",
    "    k = 8.617E-5 #boltzman constant (eV/K)\n",
    "    T = 300 #K\n",
    "    print(-E/(k*T))\n",
    "    probability = np.exp(-E/(k*T))\n",
    "    return probability\n",
    "    print(probability)"
   ]
  },
  {
   "cell_type": "code",
   "execution_count": 10,
   "metadata": {
    "scrolled": true
   },
   "outputs": [
    {
     "name": "stdout",
     "output_type": "stream",
     "text": [
      "-0.009056385995884543\n"
     ]
    }
   ],
   "source": [
    "#Compute energy as a function of J (i.e. assume J = 1)\n",
    "# This is inefficient but I think easier to understand \n",
    "# Loop over all spins\n",
    "def calculateMag(N):\n",
    "    \n",
    "        \n",
    "    energy = 0\n",
    "    partition = 0\n",
    "\n",
    "    spin = genRandomConf_inputN(N)\n",
    "    #print(spin)\n",
    "\n",
    "\n",
    "    #print(spin.size)\n",
    "    for i in range(N):  # 0, N-1\n",
    "      for j in range(N): # 0, N-1\n",
    "        # calculate four interactions\n",
    "        for delta_i in range(-1,2,2):  # -1 and 1\n",
    "          ii = i + delta_i\n",
    "          if (ii < 0): \n",
    "            ii = ii + N\n",
    "          if (ii >=N): \n",
    "            ii = ii - N\n",
    "          energy = energy - spin[i,j]*spin[ii, j] #spin--> array name\n",
    "          partition += probabilityConf(energy)\n",
    "\n",
    "        for delta_j in range(-1,2,2):  # -1 and 1\n",
    "          jj = j + delta_j\n",
    "          if (jj < 0): \n",
    "            jj = jj + N\n",
    "          if (jj >=N): \n",
    "            jj = jj - N\n",
    "          energy = energy - spin[i,j]*spin[i, jj] \n",
    "          partition += probabilityConf(energy)\n",
    "\n",
    "    #energy per site\n",
    "    \n",
    "    siteEnergy = energy / N / N\n",
    "    #print(energy)\n",
    "\n",
    "    probability = (1/partition) * probabilityConf(siteEnergy)\n",
    "    #print(probability)\n",
    "\n",
    "    magnetism = magnetismCalc(N)\n",
    "    return magnetism*probability\n",
    "    \n",
    "magnetismArray = []\n",
    "for x in range(10):\n",
    "    magnetism = calculateMag(10)\n",
    "    magnetismArray.append(magnetism)\n",
    "    \n",
    "print(np.mean(magnetismArray))"
   ]
  },
  {
   "cell_type": "code",
   "execution_count": null,
   "metadata": {},
   "outputs": [],
   "source": [
    "###bad code\n",
    "# import numpy as np\n",
    "\n",
    "# def calculateH():\n",
    "#     #input: i dont know yet\n",
    "#     #output: value of H\n",
    "#     sum = 0\n",
    "#     A = np.random.choice([-0.5,0.5], size=(10,10))\n",
    "    \n",
    "#     for i in range(9):\n",
    "#         for j in range(9):\n",
    "#             if i-1 > 0 and i+1 < 10-1 and j-1 > 0 and j+1 < 10-1:\n",
    "#                 sum += -(A[i,j]*A[i,j+1] + A[i,j]*A[i,j-1] + A[i,j]*A[i+1,j] + A[i-1,j]*A[i,j])\n",
    "#                 print(sum)\n",
    "#             else:\n",
    "#                 print(\"oh no\")\n",
    "    \n",
    "#     print(sum)\n",
    "    \n",
    "# calculateH()\n",
    "            \n",
    "            "
   ]
  },
  {
   "cell_type": "code",
   "execution_count": 45,
   "metadata": {},
   "outputs": [],
   "source": [
    "def positive():\n",
    "    a = np.ones((10,10))\n",
    "    b = 0.5*a\n",
    "    return b"
   ]
  },
  {
   "cell_type": "code",
   "execution_count": 39,
   "metadata": {
    "scrolled": true
   },
   "outputs": [
    {
     "data": {
      "text/plain": [
       "array([[ 0.5,  0.5,  0.5,  0.5],\n",
       "       [ 0.5,  0.5,  0.5,  0.5],\n",
       "       [-0.5, -0.5, -0.5, -0.5],\n",
       "       [-0.5, -0.5, -0.5, -0.5]])"
      ]
     },
     "execution_count": 39,
     "metadata": {},
     "output_type": "execute_result"
    }
   ],
   "source": [
    "def mixed():\n",
    "    a = .5 * np.ones((2,4))\n",
    "    b = -0.5 *np.ones((2,4))\n",
    "    combined = np.concatenate((a,b), axis = 0)\n",
    "    return combined\n",
    "    #print(combined)\n",
    "    \n",
    "mixed()"
   ]
  },
  {
   "cell_type": "code",
   "execution_count": 36,
   "metadata": {},
   "outputs": [],
   "source": [
    "def negative():\n",
    "    a = np.ones((4,4))\n",
    "    b = -0.5*a\n",
    "    return b"
   ]
  },
  {
   "cell_type": "code",
   "execution_count": 47,
   "metadata": {
    "scrolled": true
   },
   "outputs": [
    {
     "name": "stdout",
     "output_type": "stream",
     "text": [
      "-100.0\n",
      "-1.0\n",
      "-100.0\n",
      "-1.0\n",
      "-100.0\n",
      "-1.0\n",
      "-100.0\n",
      "-1.0\n",
      "-100.0\n",
      "-1.0\n",
      "-100.0\n",
      "-1.0\n",
      "-100.0\n",
      "-1.0\n",
      "-100.0\n",
      "-1.0\n",
      "-100.0\n",
      "-1.0\n",
      "-100.0\n",
      "-1.0\n"
     ]
    }
   ],
   "source": [
    "###VALIDATION\n",
    "#Compute energy as a function of J (i.e. assume J = 1)\n",
    "# This is inefficient but I think easier to understand \n",
    "# Loop over all spins\n",
    "def calculateMag(N):\n",
    "    \n",
    "        \n",
    "    energy = 0\n",
    "    partition = 0\n",
    "\n",
    "    spin = positive()\n",
    "    #print(spin)\n",
    "\n",
    "\n",
    "    #print(spin.size)\n",
    "    for i in range(N):  # 0, N-1\n",
    "      for j in range(N): # 0, N-1\n",
    "        # calculate four interactions\n",
    "        for delta_i in range(-1,2,2):  # -1 and 1\n",
    "          ii = i + delta_i\n",
    "          if (ii < 0): \n",
    "            ii = ii + N\n",
    "          if (ii >=N): \n",
    "            ii = ii - N\n",
    "          energy = energy - spin[i,j]*spin[ii, j] #spin--> array name\n",
    "          ##partition += probabilityConf(energy)\n",
    "\n",
    "        for delta_j in range(-1,2,2):  # -1 and 1\n",
    "          jj = j + delta_j\n",
    "          if (jj < 0): \n",
    "            jj = jj + N\n",
    "          if (jj >=N): \n",
    "            jj = jj - N\n",
    "          energy = energy - spin[i,j]*spin[i, jj] \n",
    "          ##partition += probabilityConf(energy)\n",
    "\n",
    "    #energy per site\n",
    "    print(energy)\n",
    "    siteEnergy = energy / N / N\n",
    "    #print(energy)\n",
    "    \n",
    "    #probability = probabilityConf(siteEnergy)\n",
    "\n",
    "    ##probability = (1/partition) * probabilityConf(siteEnergy)\n",
    "    #print(probability)\n",
    "\n",
    "    ##magnetism = magnetismCalc(N)\n",
    "    ##return magnetism*probability\n",
    "    \n",
    "    return siteEnergy\n",
    "    print(siteEnergy)\n",
    "    \n",
    "magnetismArray = []\n",
    "for x in range(10):\n",
    "    magnetism = calculateMag(10)\n",
    "    print(magnetism)\n",
    "    magnetismArray.append(magnetism)\n",
    "    \n",
    "##print(np.mean(magnetismArray))"
   ]
  },
  {
   "cell_type": "code",
   "execution_count": null,
   "metadata": {},
   "outputs": [],
   "source": []
  }
 ],
 "metadata": {
  "kernelspec": {
   "display_name": "Python 3",
   "language": "python",
   "name": "python3"
  },
  "language_info": {
   "codemirror_mode": {
    "name": "ipython",
    "version": 3
   },
   "file_extension": ".py",
   "mimetype": "text/x-python",
   "name": "python",
   "nbconvert_exporter": "python",
   "pygments_lexer": "ipython3",
   "version": "3.7.7"
  }
 },
 "nbformat": 4,
 "nbformat_minor": 2
}
