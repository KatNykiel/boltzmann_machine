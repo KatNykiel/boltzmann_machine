{
 "cells": [
  {
   "cell_type": "code",
   "execution_count": 17,
   "metadata": {},
   "outputs": [],
   "source": [
    "import numpy as np\n",
    "\n",
    "def gen_random_conf(n):\n",
    "    #input: n = length of array = width of array\n",
    "    #output: random 10x10 array (-1/2's and +1/2's)\n",
    "    \n",
    "    A = np.random.choice([-0.5,0.5], size=(n,n))\n",
    "    \n",
    "    return(A)"
   ]
  },
  {
   "cell_type": "code",
   "execution_count": 18,
   "metadata": {},
   "outputs": [],
   "source": [
    "#Compute energy as a function of J (i.e. assume J = 1)\n",
    "# This is inefficient but I think easier to understand \n",
    "# Loop over all spins\n",
    "def calculate_energy(N, spin):\n",
    "        \n",
    "    energy = 0\n",
    "\n",
    "    #spin = gen_random_conf(N)\n",
    "    #print(spin)\n",
    "\n",
    "\n",
    "    #print(spin.size)\n",
    "    for i in range(N):  # 0, N-1\n",
    "      for j in range(N): # 0, N-1\n",
    "        # calculate four interactions\n",
    "        for delta_i in range(-1,2,2):  # -1 and 1\n",
    "          ii = i + delta_i\n",
    "          if (ii < 0): \n",
    "            ii = ii + N\n",
    "          if (ii >=N): \n",
    "            ii = ii - N\n",
    "          energy = energy - spin[i,j]*spin[ii, j] #spin--> array name\n",
    "        \n",
    "        for delta_j in range(-1,2,2):  # -1 and 1\n",
    "          jj = j + delta_j\n",
    "          if (jj < 0): \n",
    "            jj = jj + N\n",
    "          if (jj >=N): \n",
    "            jj = jj - N\n",
    "          energy = energy - spin[i,j]*spin[i, jj] \n",
    "    \n",
    "    print(\"total energy: \" + str(energy))\n",
    "    \n",
    "    #energy per site\n",
    "    site_energy = 0.5 * energy / N / N\n",
    "    \n",
    "    print(\"energy per site(avg): \"+ str(site_energy))\n",
    "    \n",
    "    return site_energy"
   ]
  },
  {
   "cell_type": "code",
   "execution_count": 19,
   "metadata": {},
   "outputs": [
    {
     "name": "stdout",
     "output_type": "stream",
     "text": [
      "total energy: 8.0\n",
      "energy per site(avg): 0.04\n",
      "total energy: -6.0\n",
      "energy per site(avg): -0.03\n",
      "total energy: -2.0\n",
      "energy per site(avg): -0.01\n",
      "total energy: 6.0\n",
      "energy per site(avg): 0.03\n",
      "total energy: 8.0\n",
      "energy per site(avg): 0.04\n",
      "total energy: 0.0\n",
      "energy per site(avg): 0.0\n",
      "total energy: 0.0\n",
      "energy per site(avg): 0.0\n",
      "total energy: 10.0\n",
      "energy per site(avg): 0.05\n",
      "total energy: -2.0\n",
      "energy per site(avg): -0.01\n",
      "total energy: -6.0\n",
      "energy per site(avg): -0.03\n"
     ]
    },
    {
     "data": {
      "text/plain": [
       "<function print>"
      ]
     },
     "execution_count": 19,
     "metadata": {},
     "output_type": "execute_result"
    }
   ],
   "source": [
    "energy_array = []\n",
    "for x in range(10):\n",
    "    e = calculate_energy(10, gen_random_conf(10))\n",
    "    energy_array.append(e)\n",
    "\n",
    "print"
   ]
  },
  {
   "cell_type": "code",
   "execution_count": 20,
   "metadata": {},
   "outputs": [],
   "source": [
    "def positive():\n",
    "    #output: 10x10 array; all indices = +1/2\n",
    "    a = np.ones((10,10))\n",
    "    b = 0.5*a\n",
    "    return b"
   ]
  },
  {
   "cell_type": "code",
   "execution_count": 21,
   "metadata": {},
   "outputs": [],
   "source": [
    "def negative():\n",
    "    #output: 10x10 array; all indices = -1/2\n",
    "    a = np.ones((10,10))\n",
    "    b = -0.5*a\n",
    "    return b"
   ]
  },
  {
   "cell_type": "code",
   "execution_count": 22,
   "metadata": {},
   "outputs": [],
   "source": [
    "def half_and_half():\n",
    "    #output: 10x10 array; indices in 5x10 = +1/2; indices in 6x10 = -1/2\n",
    "    a = .5 * np.ones((5,10))\n",
    "    b = -0.5 *np.ones((5,10))\n",
    "    combined = np.concatenate((a,b), axis = 0)\n",
    "    return combined\n",
    "     "
   ]
  },
  {
   "cell_type": "code",
   "execution_count": 23,
   "metadata": {
    "scrolled": true
   },
   "outputs": [
    {
     "name": "stdout",
     "output_type": "stream",
     "text": [
      "total energy: -80.0\n",
      "energy per site(avg): -0.4\n",
      "total energy: -80.0\n",
      "energy per site(avg): -0.4\n",
      "total energy: -80.0\n",
      "energy per site(avg): -0.4\n",
      "total energy: -80.0\n",
      "energy per site(avg): -0.4\n",
      "total energy: -80.0\n",
      "energy per site(avg): -0.4\n",
      "total energy: -80.0\n",
      "energy per site(avg): -0.4\n",
      "total energy: -80.0\n",
      "energy per site(avg): -0.4\n",
      "total energy: -80.0\n",
      "energy per site(avg): -0.4\n",
      "total energy: -80.0\n",
      "energy per site(avg): -0.4\n",
      "total energy: -80.0\n",
      "energy per site(avg): -0.4\n"
     ]
    }
   ],
   "source": [
    "###VALIDATION\n",
    "#Compute energy as a function of J (i.e. assume J = 1)\n",
    "# This is inefficient but I think easier to understand \n",
    "# Loop over all spins\n",
    "def calculate_energy(N):\n",
    "    \n",
    "        \n",
    "    energy = 0\n",
    "\n",
    "    spin = half_and_half()\n",
    "    #print(spin)\n",
    "\n",
    "\n",
    "    #print(spin.size)\n",
    "    for i in range(N):  # 0, N-1\n",
    "      for j in range(N): # 0, N-1\n",
    "        # calculate four interactions\n",
    "        for delta_i in range(-1,2,2):  # -1 and 1\n",
    "          ii = i + delta_i\n",
    "          if (ii < 0): \n",
    "            ii = ii + N\n",
    "          if (ii >=N): \n",
    "            ii = ii - N\n",
    "          energy = energy - spin[i,j]*spin[ii, j] #spin--> array name\n",
    "        \n",
    "        for delta_j in range(-1,2,2):  # -1 and 1\n",
    "          jj = j + delta_j\n",
    "          if (jj < 0): \n",
    "            jj = jj + N\n",
    "          if (jj >=N): \n",
    "            jj = jj - N\n",
    "          energy = energy - spin[i,j]*spin[i, jj] \n",
    "    \n",
    "    #energy per site\n",
    "    print(\"total energy: \" + str(energy))\n",
    "    site_energy = 0.5 * energy / N / N\n",
    "    \n",
    "    return site_energy\n",
    "    \n",
    "energy_array = []\n",
    "for x in range(10):\n",
    "    e = calculate_energy(10) #e = energy per site\n",
    "    print(\"energy per site(avg): \"+ str(e))\n",
    "    energy_array.append(e)"
   ]
  },
  {
   "cell_type": "code",
   "execution_count": 28,
   "metadata": {},
   "outputs": [
    {
     "name": "stdout",
     "output_type": "stream",
     "text": [
      "avg magnetism: 0.06999715171326898\n",
      "avg energy: 4.554681423426746\n"
     ]
    }
   ],
   "source": [
    "#This calculates <M> and <E>over 10 different configurations\n",
    "#      Z( M(j) * e^(-B*E(j) )\n",
    "#<M> = ---------------------\n",
    "#         Z( e^(-B*E(j) )\n",
    "\n",
    "#      Z( E(j) * e^(-B*E(j) )\n",
    "#<E> = ---------------------\n",
    "#         Z( e^(-B*E(j) )\n",
    "\n",
    "#Compute energy as a function of J (i.e. assume J = 1)\n",
    "# This is inefficient but I think easier to understand \n",
    "# Loop over all spins\n",
    "def calc_mag_energy(N):\n",
    "    \n",
    "        \n",
    "    energy = 0\n",
    "    mag_numerator = 0 #numerator represents sum of 10 confs(M * exp(-E/k/T))\n",
    "    energy_numerator = 0 #numerator represents sum of 10 confs(E * exp(-E/k/T))\n",
    "    denominator = 0 #denominator represents sum of 10 confs(exp(-E/k/T))\n",
    "    \n",
    "    k = 8.617E-5 #boltzman constant (eV/K)\n",
    "    T = 300 #K\n",
    "    \n",
    "    for i in range(10): #this tests for 10 confs and adds to sum for numerator and denominator\n",
    "        \n",
    "        spin = gen_random_conf(N) #generators a new random conf\n",
    "\n",
    "        magnetism_sum = np.sum(spin)/N/N  #calculates magnetism\n",
    "\n",
    "        #calculates energy\n",
    "        for i in range(N):  # 0, N-1\n",
    "          for j in range(N): # 0, N-1\n",
    "            # calculate four interactions\n",
    "            for delta_i in range(-1,2,2):  # -1 and 1\n",
    "              ii = i + delta_i\n",
    "              if (ii < 0): \n",
    "                ii = ii + N\n",
    "              if (ii >=N): \n",
    "                ii = ii - N\n",
    "              energy = energy - spin[i,j]*spin[ii, j] #spin--> array name\n",
    "\n",
    "            for delta_j in range(-1,2,2):  # -1 and 1\n",
    "              jj = j + delta_j\n",
    "              if (jj < 0): \n",
    "                jj = jj + N\n",
    "              if (jj >=N): \n",
    "                jj = jj - N\n",
    "              energy = energy - spin[i,j]*spin[i, jj] \n",
    "            \n",
    "        energy = energy *0.5 #prevents double counting\n",
    "\n",
    "\n",
    "        mag_numerator += (magnetism_sum * np.exp(energy/k/T))\n",
    "        energy_numerator += (energy * np.exp(energy/k/T))\n",
    "        denominator += (np.exp(energy/k/T))\n",
    "    \n",
    "    avg_magnetism = mag_numerator/denominator\n",
    "    avg_energy = energy_numerator/denominator\n",
    "    \n",
    "    print(\"avg magnetism: \" + str(avg_magnetism))\n",
    "    print(\"avg energy: \" + str(avg_energy))\n",
    "\n",
    "calc_mag_energy(10)\n"
   ]
  },
  {
   "cell_type": "code",
   "execution_count": null,
   "metadata": {},
   "outputs": [],
   "source": []
  }
 ],
 "metadata": {
  "kernelspec": {
   "display_name": "Python 3",
   "language": "python",
   "name": "python3"
  },
  "language_info": {
   "codemirror_mode": {
    "name": "ipython",
    "version": 3
   },
   "file_extension": ".py",
   "mimetype": "text/x-python",
   "name": "python",
   "nbconvert_exporter": "python",
   "pygments_lexer": "ipython3",
   "version": "3.7.7"
  }
 },
 "nbformat": 4,
 "nbformat_minor": 2
}
