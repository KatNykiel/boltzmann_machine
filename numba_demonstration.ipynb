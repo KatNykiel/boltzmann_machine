{
 "cells": [
  {
   "cell_type": "code",
   "execution_count": 1,
   "metadata": {},
   "outputs": [],
   "source": [
    "from numba import jit\n",
    "import random\n",
    "import time\n",
    "import numpy as np"
   ]
  },
  {
   "cell_type": "code",
   "execution_count": 2,
   "metadata": {},
   "outputs": [
    {
     "name": "stdout",
     "output_type": "stream",
     "text": [
      "It took 46.539785623550415 seconds to run the pure Python implementation.\n"
     ]
    }
   ],
   "source": [
    "#pure python implementation of Monte Carlo calculation of pi\n",
    "def pure_mc_pi(n_samples):\n",
    "    acc = 0\n",
    "    for x in range(n_samples):\n",
    "        x = random.random()\n",
    "        y = random.random()\n",
    "        if (x ** 2 + y ** 2) < 1:\n",
    "            acc += 1\n",
    "    return 4.0 * acc / n_samples\n",
    "pure_start = time.time()\n",
    "pure_mc_pi(100000000)\n",
    "pure_end = time.time()\n",
    "print(f\"It took {pure_end-pure_start} seconds to run the pure Python implementation.\")"
   ]
  },
  {
   "cell_type": "code",
   "execution_count": 3,
   "metadata": {},
   "outputs": [
    {
     "data": {
      "text/plain": [
       "3.36"
      ]
     },
     "execution_count": 3,
     "metadata": {},
     "output_type": "execute_result"
    }
   ],
   "source": [
    "#Just in time compilation (JIT) implementation of Monte Carlo calculation of pi\n",
    "@jit(nopython=True)\n",
    "#pure python implementation\n",
    "def numba_mc_pi(n_samples):\n",
    "    acc = 0\n",
    "    for x in range(n_samples):\n",
    "        x = random.random()\n",
    "        y = random.random()\n",
    "        if (x ** 2 + y ** 2) < 1:\n",
    "            acc += 1\n",
    "    return 4.0 * acc / n_samples\n",
    "numba_mc_pi(100) #compiling Python down to C code"
   ]
  },
  {
   "cell_type": "code",
   "execution_count": 4,
   "metadata": {},
   "outputs": [
    {
     "name": "stdout",
     "output_type": "stream",
     "text": [
      "It took 1.6477856636047363 seconds to run the JIT compiled implementation.\n"
     ]
    }
   ],
   "source": [
    "numba_start = time.time()\n",
    "numba_mc_pi(100000000)\n",
    "numba_end = time.time()\n",
    "print(f\"It took {numba_end-numba_start} seconds to run the JIT compiled implementation.\")"
   ]
  },
  {
   "cell_type": "code",
   "execution_count": 27,
   "metadata": {},
   "outputs": [
    {
     "name": "stdout",
     "output_type": "stream",
     "text": [
      "[[0. 0. 0. 0. 0. 0. 0. 0. 0. 0.]\n",
      " [0. 0. 0. 0. 0. 0. 0. 0. 0. 0.]\n",
      " [0. 0. 0. 0. 0. 0. 0. 0. 0. 0.]\n",
      " [0. 0. 0. 0. 0. 0. 0. 0. 0. 0.]\n",
      " [0. 0. 0. 0. 0. 0. 0. 0. 0. 0.]\n",
      " [0. 0. 0. 0. 0. 0. 0. 0. 0. 0.]\n",
      " [0. 0. 0. 0. 0. 0. 0. 0. 0. 0.]\n",
      " [0. 0. 0. 0. 0. 0. 0. 0. 0. 0.]\n",
      " [0. 0. 0. 0. 0. 0. 0. 0. 0. 0.]\n",
      " [0. 0. 0. 0. 0. 0. 0. 0. 0. 0.]]\n"
     ]
    }
   ],
   "source": []
  },
  {
   "cell_type": "code",
   "execution_count": null,
   "metadata": {},
   "outputs": [],
   "source": []
  }
 ],
 "metadata": {
  "kernelspec": {
   "display_name": "Python 3",
   "language": "python",
   "name": "python3"
  },
  "language_info": {
   "codemirror_mode": {
    "name": "ipython",
    "version": 3
   },
   "file_extension": ".py",
   "mimetype": "text/x-python",
   "name": "python",
   "nbconvert_exporter": "python",
   "pygments_lexer": "ipython3",
   "version": "3.8.10"
  }
 },
 "nbformat": 4,
 "nbformat_minor": 2
}
