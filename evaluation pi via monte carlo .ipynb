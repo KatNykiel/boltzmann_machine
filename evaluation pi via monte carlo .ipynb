{
 "cells": [
  {
   "cell_type": "code",
   "execution_count": null,
   "metadata": {},
   "outputs": [],
   "source": [
    "import numpy as np\n",
    "from numpy import random\n",
    "\n",
    "def findPi(numIteration):\n",
    "    num_circle = 0\n",
    "    num_square = 0\n",
    "    \n",
    "    for i in range(numIteration):\n",
    "        x = random.rand()\n",
    "        y = random.rand()\n",
    "        \n",
    "        d = x*x + y*y\n",
    "        \n",
    "        if d <= 1:\n",
    "            num_circle += 1\n",
    "       \n",
    "        num_square += 1\n",
    "            \n",
    "    \n",
    "    pi = 4 * num_circle/num_square\n",
    "    \n",
    "    print(\"The estimation of pi after \" + str(numIteration) + \" iterations is \" + str(pi))\n",
    "\n",
    "\n",
    "\n",
    "findPi(100000)"
   ]
  },
  {
   "cell_type": "code",
   "execution_count": null,
   "metadata": {},
   "outputs": [],
   "source": []
  }
 ],
 "metadata": {
  "kernelspec": {
   "display_name": "Python 3",
   "language": "python",
   "name": "python3"
  },
  "language_info": {
   "codemirror_mode": {
    "name": "ipython",
    "version": 3
   },
   "file_extension": ".py",
   "mimetype": "text/x-python",
   "name": "python",
   "nbconvert_exporter": "python",
   "pygments_lexer": "ipython3",
   "version": "3.7.7"
  }
 },
 "nbformat": 4,
 "nbformat_minor": 2
}
