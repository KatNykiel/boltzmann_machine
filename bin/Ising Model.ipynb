{
 "cells": [
  {
   "cell_type": "markdown",
   "id": "c80db5c8",
   "metadata": {},
   "source": [
    "# Ising Model\n",
    "## Ava Hallberg, Joji Nishibushi, Kat Nykiel, Alejandro Strachan"
   ]
  },
  {
   "cell_type": "markdown",
   "id": "16991630",
   "metadata": {},
   "source": [
    "### Introduction\n",
    "\n",
    "### Link to existing notebooks\n",
    "\n",
    "- [brute force ising model](Brute%20Force%20Ising%20Model.ipynb)\n",
    "- [monte carlo ising model](Monte%20Carlo%20Ising%20Model.ipynb)"
   ]
  },
  {
   "cell_type": "code",
   "execution_count": null,
   "id": "f673df14",
   "metadata": {},
   "outputs": [],
   "source": []
  }
 ],
 "metadata": {
  "kernelspec": {
   "display_name": "Python 3",
   "language": "python",
   "name": "python3"
  },
  "language_info": {
   "codemirror_mode": {
    "name": "ipython",
    "version": 3
   },
   "file_extension": ".py",
   "mimetype": "text/x-python",
   "name": "python",
   "nbconvert_exporter": "python",
   "pygments_lexer": "ipython3",
   "version": "3.7.7"
  }
 },
 "nbformat": 4,
 "nbformat_minor": 5
}
