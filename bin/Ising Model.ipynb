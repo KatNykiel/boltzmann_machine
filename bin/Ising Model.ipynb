{
 "cells": [
  {
   "cell_type": "markdown",
   "id": "b18bedc9",
   "metadata": {},
   "source": [
    "# Ising Model\n",
    "### Ava Hallberg, Joji Nishibushi, Kat Nykiel, Alejandro Strachan"
   ]
  },
  {
   "cell_type": "markdown",
   "id": "f91aa61c",
   "metadata": {},
   "source": [
    "## Introduction\n",
    "\n",
    "**What is the Ising model?**\n",
    "\n",
    "The Ising Model is a mathematical model used to describe ferromagnetism. This model describes a lattice of spins, which can have either +1 or -1 states. An example of such a system is given below.\n",
    "\n",
    "![](./ising_small.png \"Representation of the Ising model\")\n",
    "\n",
    "The energy of such a system is the sum of interactions between neighboring spins (assuming $\\vec{B}=0$)\n",
    "\n",
    "$$ H = -\\sum_{\\langle i,j\\rangle}J\\sigma_i\\sigma_j$$\n",
    "\n",
    "where $J$ is the interaction energy.\n",
    "\n",
    "- For ferromagnetic systems, $J>0$, and the lowest energy configuration is parallel spins with non-zero magnetic moment.\n",
    "<img src=\"./parallel.png\" alt=\"parallel\" width=\"280\">\n",
    "- For antiferromagnetic systems, $J<0$ and the lowest energy configuration is anti-parallel spins with zero magnetic moment.\n",
    "<img src=\"./anti_parallel.png\" alt=\"parallel\" width=\"280\">\n",
    "\n",
    "**Why is the Ising model useful?**\n",
    "\n",
    "The Ising model provides a simplified view of ferromagnetism, which can be used to explain phase transitions between *ordered*, magnetic states and *disordered* states.\n",
    "\n",
    "In addition, the energy function associated with the Ising model is identical to the form used in Boltzmann machines, a neural network often used in recommendation engines.\n",
    "<img src=\"./Boltzmannexamplev2.png\" alt=\"parallel\" width=\"280\">\n",
    "\n",
    "\n",
    "## Solving the 2D Ising Model\n",
    "\n",
    "Statistical mechanics (a field of physics) provides a way to solve the Ising model. At a given temperature, the Boltzmann distribution describes the probability of any given configuration in terms of its energy. Thus, finding the equilibrium state of the Ising model at temperature T requires sampling this distribution and calculating average properties, like magnetic moment or energy. Below, we show how this problem can be solved using a [brute force approach](Brute%20Force%20Ising%20Model.ipynb) (spoiler alert: this does not work) and a [Monte Carlo approach](Monte%20Carlo%20Ising%20Model.ipynb) proposed by Nicholas Metropolis and Stanislaw Ulam in 1949.[1] *Interesting fact: Arianna Rosenbluth is credited with writing the code used in the paper.*[2,3]\n",
    "\n",
    "[1] Metropolis, N., & Ulam, S. (1949). The Monte Carlo method. Journal of the American Statistical Association, 44(247), 335–341. https://doi.org/10.1080/01621459.1949.10483310\n",
    "\n",
    "[2] https://en.wikipedia.org/wiki/Arianna_W._Rosenbluth\n",
    "\n",
    "[3] https://www.nytimes.com/2021/02/09/science/arianna-wright-dead.html\n"
   ]
  },
  {
   "cell_type": "code",
   "execution_count": null,
   "id": "3b88602c",
   "metadata": {},
   "outputs": [],
   "source": []
  }
 ],
 "metadata": {
  "kernelspec": {
   "display_name": "Python 3.8",
   "language": "python",
   "name": "python3"
  },
  "language_info": {
   "codemirror_mode": {
    "name": "ipython",
    "version": 3
   },
   "file_extension": ".py",
   "mimetype": "text/x-python",
   "name": "python",
   "nbconvert_exporter": "python",
   "pygments_lexer": "ipython3",
   "version": "3.8.10"
  }
 },
 "nbformat": 4,
 "nbformat_minor": 5
}
