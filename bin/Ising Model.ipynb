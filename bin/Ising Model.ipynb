{
 "cells": [
  {
   "cell_type": "markdown",
   "id": "b18bedc9",
   "metadata": {},
   "source": [
    "# Ising Model\n",
    "### Ava Hallberg, Joji Nishibushi, Kat Nykiel, Alejandro Strachan"
   ]
  },
  {
   "cell_type": "markdown",
   "id": "f91aa61c",
   "metadata": {},
   "source": [
    "## Introduction\n",
    "\n",
    "**What is the Ising model?**\n",
    "\n",
    "The Ising Model is a mathematical model used to describe ferromagnetism. This model describes a lattice of spins, which can have either +1 or -1 states. An example of such a system is given below\n",
    "\n",
    "![](./ising_small.png \"Representation of the Ising model\")\n",
    "\n",
    "The energy of such a system is the sum of interactions between neighboring spins (assuming $\\vec{B}=0$)\n",
    "\n",
    "$$ H = -\\sum_{\\langle i,j\\rangle}J\\sigma_i\\sigma_j$$\n",
    "\n",
    "where $J$ is the interaction energy\n",
    "- For ferromagnetic systems, $J>0$, and the lowest energy configuration is parallel spins with non-zero magnetic moment\n",
    "<img src=\"./parallel.png\" alt=\"parallel\" width=\"280\">\n",
    "- For antiferromagnetic systems, $J<0$ and the lowest energy configuration is anti-parallel spins with zero magnetic moment\n",
    "<img src=\"./anti_parallel.png\" alt=\"parallel\" width=\"280\">\n",
    "\n",
    "**Why is the Ising model useful?**\n",
    "\n",
    "The Ising model provides a simplified view of ferromagnetism, which can be used to explain phase transitions between *ordered*, magnetic states and *disordered* states \n",
    "\n",
    "In addition, the energy function associated with the Ising model is identical to the form used in Boltzmann machines, a neural network often used in recommendation engines\n",
    "<img src=\"./Boltzmannexamplev2.png\" alt=\"parallel\" width=\"280\">\n",
    "\n",
    "## Explaining phase transitions with a 2D Ising model\n",
    "\n",
    "To test if we see phase transitions in our Ising model system, we need to determine \n",
    "\n",
    "The first approach, a brute force one, randomly samples configurations and calculates energy and magnetism for each temperature\n",
    "\n",
    "- [brute force approach](Brute%20Force%20Ising%20Model.ipynb)\n",
    "\n",
    "After observing the limitations of this method, a Markov chain Monte Carlo sampling approach is implemented\n",
    "- [monte carlo approach](Monte%20Carlo%20Ising%20Model.ipynb)\n",
    "\n",
    "## Implementing Boltzmann machines with Ising energy function\n",
    "\n",
    "This brief example provides an introduction to Boltzmann machines as a prediction engine for users' ratings of movies\n",
    "\n",
    "**TODO: figure out if a different kernel can be used for specific notebooks, or if the older Jupyter tool works with the packages in the first two notebooks**\n",
    "- [recommendation engines](recommendation_engine.ipynb)"
   ]
  },
  {
   "cell_type": "code",
   "execution_count": null,
   "id": "3b88602c",
   "metadata": {},
   "outputs": [],
   "source": []
  }
 ],
 "metadata": {
  "kernelspec": {
   "display_name": "Python 3",
   "language": "python",
   "name": "python3"
  },
  "language_info": {
   "codemirror_mode": {
    "name": "ipython",
    "version": 3
   },
   "file_extension": ".py",
   "mimetype": "text/x-python",
   "name": "python",
   "nbconvert_exporter": "python",
   "pygments_lexer": "ipython3",
   "version": "3.7.7"
  }
 },
 "nbformat": 4,
 "nbformat_minor": 5
}
