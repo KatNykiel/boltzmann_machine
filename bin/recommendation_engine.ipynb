{
 "cells": [
  {
   "cell_type": "markdown",
   "id": "d5441352",
   "metadata": {},
   "source": [
    "# Recommendation Engine using Restricted Boltzmann Machines\n",
    "Example adapted from: \n",
    "- https://github.com/echen/restricted-boltzmann-machines\n",
    "- https://github.com/AmirAli5/Deep-Learning"
   ]
  },
  {
   "cell_type": "markdown",
   "id": "cbc6a07a",
   "metadata": {},
   "source": [
    "## Data Preprocessing"
   ]
  },
  {
   "cell_type": "code",
   "execution_count": null,
   "id": "331bbfdc",
   "metadata": {
    "scrolled": false
   },
   "outputs": [],
   "source": [
    "# Import required libraries\n",
    "import numpy as np\n",
    "import pandas as pd\n",
    "import torch\n",
    "import torch.nn as nn\n",
    "import torch.nn.parallel\n",
    "import torch.optim as optim\n",
    "import torch.utils.data\n",
    "from torch.autograd import Variable"
   ]
  },
  {
   "cell_type": "markdown",
   "id": "63125abe",
   "metadata": {},
   "source": [
    "### fake data\n",
    "**training**\n",
    "- Alice: (Harry Potter = 1, Avatar = 1, LOTR 3 = 1, Gladiator = 0, Titanic = 0, Glitter = 0). Big SF/fantasy fan.\n",
    "- Bob: (Harry Potter = 1, Avatar = 0, LOTR 3 = 1, Gladiator = 0, Titanic = 0, Glitter = 0). SF/fantasy fan, but doesn't like Avatar.\n",
    "- Carol: (Harry Potter = 1, Avatar = 1, LOTR 3 = 1, Gladiator = 0, Titanic = 0, Glitter = 0). Big SF/fantasy fan.\n",
    "- David: (Harry Potter = 0, Avatar = 0, LOTR 3 = 1, Gladiator = 1, Titanic = 1, Glitter = 0). Big Oscar winners fan.\n",
    "- Eric: (Harry Potter = 0, Avatar = 0, LOTR 3 = 1, Gladiator = 1, Titanic = 1, Glitter = 0). Oscar winners fan, except for Titanic.\n",
    "- Fred: (Harry Potter = 0, Avatar = 0, LOTR 3 = 1, Gladiator = 1, Titanic = 1, Glitter = 0). Big Oscar winners fan.\n",
    "\n",
    "**testing**\n",
    "- George: (Harry Potter = 0, Avatar = 0, LOTR 3 = 0, Gladiator = 1, Titanic = 1, Glitter = 0)"
   ]
  },
  {
   "cell_type": "code",
   "execution_count": null,
   "id": "c436f805",
   "metadata": {
    "scrolled": false
   },
   "outputs": [],
   "source": [
    "# Test Amazon movie recommendation set\n",
    "import pandas as pd\n",
    "amazon_df = pd.read_csv('Amazon.csv')"
   ]
  },
  {
   "cell_type": "code",
   "execution_count": null,
   "id": "170a608b",
   "metadata": {
    "scrolled": false
   },
   "outputs": [],
   "source": [
    "print(amazon_df.shape)\n",
    "amazon_df.head()"
   ]
  },
  {
   "cell_type": "code",
   "execution_count": null,
   "id": "0cf34d95",
   "metadata": {
    "scrolled": false
   },
   "outputs": [],
   "source": [
    "# Import some set of data: users in lines, movies in columns\n",
    "training_data = [[1,1,1,0,0,0],[1,0,1,0,0,0],[1,1,1,0,0,0],[0,0,1,1,1,0],[0,0,1,1,1,0],[0,0,1,1,1,0]]\n",
    "test_data = [[0,0,0,1,1,0]]\n",
    "n_users = np.shape(training_data)[0]\n",
    "n_movies = np.shape(training_data)[1]"
   ]
  },
  {
   "cell_type": "code",
   "execution_count": null,
   "id": "fd3c746b",
   "metadata": {
    "scrolled": false
   },
   "outputs": [],
   "source": [
    "# Convert the data into torch tensor\n",
    "training_set = torch.FloatTensor(training_data)\n",
    "test_set = torch.FloatTensor(test_data)"
   ]
  },
  {
   "cell_type": "markdown",
   "id": "436792d7",
   "metadata": {},
   "source": [
    "## Building Restricted Boltzmann Machine"
   ]
  },
  {
   "cell_type": "code",
   "execution_count": null,
   "id": "168c4856",
   "metadata": {
    "scrolled": false
   },
   "outputs": [],
   "source": [
    "# Creating the architecture of the Neural Network\n",
    "class RBM():\n",
    "    def __init__(self, nv, nh):\n",
    "        self.W = torch.randn(nh, nv)\n",
    "        self.a = torch.randn(1, nh)\n",
    "        self.b = torch.randn(1, nv)\n",
    "    def sample_h(self, x):\n",
    "        wx = torch.mm(x, self.W.t())\n",
    "        activation = wx + self.a.expand_as(wx)\n",
    "        p_h_given_v = torch.sigmoid(activation)\n",
    "        return p_h_given_v, torch.bernoulli(p_h_given_v)\n",
    "    def sample_v(self, y):\n",
    "        wy = torch.mm(y, self.W)\n",
    "        activation = wy + self.b.expand_as(wy)\n",
    "        p_v_given_h = torch.sigmoid(activation)\n",
    "        return p_v_given_h, torch.bernoulli(p_v_given_h)\n",
    "    def train(self, v0, vk, ph0, phk):\n",
    "        self.W += torch.mm(v0.t(), ph0) - torch.mm(vk.t(), phk)\n",
    "        self.b += torch.sum((v0 - vk), 0)\n",
    "        self.a += torch.sum((ph0 - phk), 0)\n",
    "nv = len(training_set[0])\n",
    "nh = 6\n",
    "batch_size = 1\n",
    "rbm = RBM(nv, nh)"
   ]
  },
  {
   "cell_type": "markdown",
   "id": "316145f7",
   "metadata": {},
   "source": [
    "## Train the Restricted Boltzmann Machine"
   ]
  },
  {
   "cell_type": "code",
   "execution_count": null,
   "id": "f9e20e78",
   "metadata": {
    "scrolled": false
   },
   "outputs": [],
   "source": [
    "# Training the RBM model\n",
    "nb_epoch = 10\n",
    "loss = []\n",
    "for epoch in range(1, nb_epoch + 1):\n",
    "    train_loss = 0\n",
    "    s = 0.\n",
    "    for id_user in range(0, n_users - batch_size, batch_size):\n",
    "        vk = training_set[id_user:id_user+batch_size]\n",
    "        v0 = training_set[id_user:id_user+batch_size]\n",
    "        ph0,_ = rbm.sample_h(v0)\n",
    "        for k in range(10):\n",
    "            _,hk = rbm.sample_h(vk)\n",
    "            _,vk = rbm.sample_v(hk)\n",
    "            vk[v0<0] = v0[v0<0]\n",
    "        phk,_ = rbm.sample_h(vk)\n",
    "        rbm.train(v0, vk, ph0, phk)\n",
    "        train_loss += torch.mean(torch.abs(v0[v0>=0] - vk[v0>=0]))\n",
    "        s += 1.\n",
    "    loss.append(float(train_loss/s))\n",
    "    print('epoch: '+str(epoch)+' loss: '+str(train_loss/s))"
   ]
  },
  {
   "cell_type": "markdown",
   "id": "e9938b12",
   "metadata": {},
   "source": [
    "## Test the Restricted Boltzmann Machine"
   ]
  },
  {
   "cell_type": "code",
   "execution_count": null,
   "id": "0e520844",
   "metadata": {
    "scrolled": false
   },
   "outputs": [],
   "source": [
    "# Testing the RBM Model\n",
    "test_loss = 0\n",
    "s = 0.\n",
    "for id_user in range(n_users):\n",
    "    v = training_set[id_user:id_user+1]\n",
    "    vt = test_set[id_user:id_user+1]\n",
    "    if len(vt[vt>=0]) > 0:\n",
    "        _,h = rbm.sample_h(v)\n",
    "        _,v = rbm.sample_v(h)\n",
    "        test_loss += torch.mean(torch.abs(vt[vt>=0] - v[vt>=0]))\n",
    "        s += 1.\n",
    "print('test loss: '+str(test_loss/s))"
   ]
  },
  {
   "cell_type": "code",
   "execution_count": null,
   "id": "55465d17",
   "metadata": {
    "scrolled": false
   },
   "outputs": [],
   "source": []
  }
 ],
 "metadata": {
  "kernelspec": {
   "display_name": "Python 3",
   "language": "python",
   "name": "python3"
  },
  "language_info": {
   "codemirror_mode": {
    "name": "ipython",
    "version": 3
   },
   "file_extension": ".py",
   "mimetype": "text/x-python",
   "name": "python",
   "nbconvert_exporter": "python",
   "pygments_lexer": "ipython3",
   "version": "3.7.7"
  }
 },
 "nbformat": 4,
 "nbformat_minor": 5
}
