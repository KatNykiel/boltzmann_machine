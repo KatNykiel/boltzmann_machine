{
 "cells": [
  {
   "cell_type": "markdown",
   "id": "5049069d",
   "metadata": {},
   "source": [
    "# Brute Force Ising Model\n"
   ]
  },
  {
   "cell_type": "markdown",
   "id": "1dbcc93e",
   "metadata": {},
   "source": [
    "### Statistical mechanics\n",
    "Using *statistical mechanics*, the probability of finding a given state is given by\n",
    "$$ P = \\frac{e^{-\\beta H}}{Z} $$\n",
    "Where $\\beta = \\frac{1}{k_bT}$ and $Z$ is the **partition function**, given by \n",
    "$$ Z = \\sum_{states}e^{-\\beta H} $$\n",
    "However, this requires calculating energies of *all of the given states*, which scales as $2^{n_{spins}}$. \n",
    "\n",
    "This is pretty inefficient (i.e. for a 16x16 grid, $2^{16*16}\\approx n_{\\text{atoms in universe}}$)\n",
    "\n",
    "### Approximating the partition function\n",
    "A more reasonable approach is to randomly sample states and approximate an *average* energy of all states $\\bar{E}$, which is then used to calculate $Z$ \n",
    "\n",
    "$$ Z = n_{states}*\\bar{E}$$\n",
    "\n",
    "However, even this is flawed as there are more low-energy states than high-energy ones. For example, consider a randomly shuffled deck of cards. If 'disorder' is lower energy, there's many more 'disordered' configurations of the deck than 'ordered.' This makes it harder to calculate a true average\n"
   ]
  },
  {
   "cell_type": "markdown",
   "id": "6bc443fd",
   "metadata": {},
   "source": [
    "### import required libraries"
   ]
  },
  {
   "cell_type": "code",
   "execution_count": 1,
   "id": "5173d468",
   "metadata": {},
   "outputs": [],
   "source": [
    "import numpy as np\n",
    "from numpy import random\n",
    "from numba import jit"
   ]
  },
  {
   "cell_type": "markdown",
   "id": "a45b908b",
   "metadata": {},
   "source": [
    "### create functions for generating arrays, calculating energy and magnetism"
   ]
  },
  {
   "cell_type": "code",
   "execution_count": 2,
   "id": "d5dd3729",
   "metadata": {},
   "outputs": [],
   "source": [
    "#Function to create random square array\n",
    "def gen_random_conf(n):\n",
    "    #input: n = length of array = width of array\n",
    "    #output: random 10x10 array (-1/2's and +1/2's)\n",
    "    \n",
    "    A = np.random.choice([-1,1], size=(n,n))\n",
    "    \n",
    "    return(A)"
   ]
  },
  {
   "cell_type": "code",
   "execution_count": 3,
   "id": "8090cb82",
   "metadata": {},
   "outputs": [],
   "source": [
    "@jit(nopython=True)\n",
    "def calculate_energy(spin):\n",
    "    \n",
    "    #Determine if array is square\n",
    "    spin_shape = spin.shape\n",
    "    \n",
    "    #Should end if array is not square\n",
    "    if spin_shape[0] != spin_shape[1]:\n",
    "        print(\"This is not a square matrix\")\n",
    "    #Continues code if array is square    \n",
    "    elif spin_shape[0] == spin_shape[1]:\n",
    "        N = spin_shape[0]\n",
    "        \n",
    "        energy = 0\n",
    "        J = 1\n",
    "\n",
    "        for i in range(N):  # 0, N-1\n",
    "          for j in range(N): # 0, N-1\n",
    "            # calculate four interactions\n",
    "            ii = i + -1\n",
    "            if (ii < 0): \n",
    "                ii = ii + N\n",
    "            if (ii >=N): \n",
    "                ii = ii - N\n",
    "            energy = energy + spin[i,j]*spin[ii, j] #spin--> array name\n",
    "\n",
    "            \n",
    "            jj = j + -1\n",
    "            if (jj < 0): \n",
    "                jj = jj + N\n",
    "            if (jj >=N): \n",
    "                jj = jj - N\n",
    "            energy = energy + spin[i,j]*spin[i, jj] \n",
    "\n",
    "            energy = -J * energy * 0.5\n",
    "    \n",
    "    return energy"
   ]
  },
  {
   "cell_type": "code",
   "execution_count": 4,
   "id": "8d2b653d",
   "metadata": {},
   "outputs": [],
   "source": [
    "#Sums all indices of array(magnetic sum)\n",
    "def magnetism_sum(spin):\n",
    "    magnetism = np.sum(spin)\n",
    "    return magnetism"
   ]
  },
  {
   "cell_type": "markdown",
   "id": "9956029f",
   "metadata": {},
   "source": [
    "The Main code calculates avg. magnetism and avg. energy over a given number of configurations.\n",
    "$$ \\langle M\\rangle = \\frac{\\sum_j(M_j * e^{(-\\beta*E_j)})}{\\sum_j {e^{(-\\beta*E_j)}}}$$\n",
    "\n",
    "$$ \\langle E\\rangle = \\frac{\\sum_j(E_j * e^{(-\\beta*E_j)})}{\\sum_j {e^{(-\\beta*E_j)}}}$$\n"
   ]
  },
  {
   "cell_type": "code",
   "execution_count": null,
   "id": "cb18130d",
   "metadata": {},
   "outputs": [],
   "source": [
    "#Main code\n",
    "\n",
    "k = 8.617E-5 #Boltzman constant (eV/K)\n",
    "T = 300 #K\n",
    "\n",
    "beta = 1 #J/kT\n",
    "#Number of configurations that will contribute to averages\n",
    "iterations = 10000\n",
    "#Array size\n",
    "N = 10\n",
    "\n",
    "#Intializing arrays\n",
    "beta_array, temp_array, energy_array, mag_array = [], [], [], []\n",
    "\n",
    "#Determing beta based on temperature & initializing variables/resetting variables after each loop\n",
    "for temp in np.linspace(0.0001, 1, 100):\n",
    "    beta = 1/temp\n",
    "    energy = 0.\n",
    "    magnetism = 0. \n",
    "    denominator = 0. \n",
    "    \n",
    "    #Generates given number of configurations and considers their energies/magnetizations in the averages\n",
    "    for i in range(iterations):\n",
    "        #Creates new random configuration\n",
    "        spin = gen_random_conf(N)\n",
    "        \n",
    "        #Calculates the magnetism of configuration\n",
    "        mag = np.sum(spin)/N/N \n",
    "\n",
    "        #Calculates the energy of configuration\n",
    "        e = calculate_energy(spin)/N/2\n",
    "        \n",
    "        #Determines bolztman weight\n",
    "        boltz = np.exp(-1*beta*e)\n",
    "        #Values are included in the summations(numerators of equations for avg. magetism and energy)\n",
    "        energy += e * boltz\n",
    "        magnetism += mag * boltz\n",
    "        denominator += boltz\n",
    "    \n",
    "    #Calculates average magnetism and energy\n",
    "    magnetism = magnetism/denominator\n",
    "    energy = energy/denominator\n",
    "\n",
    "    #Adds values to arrays\n",
    "    beta_array.append(beta)\n",
    "    temp_array.append(1/beta)\n",
    "    energy_array.append(energy)\n",
    "    mag_array.append(magnetism)"
   ]
  },
  {
   "cell_type": "code",
   "execution_count": null,
   "id": "56641589",
   "metadata": {},
   "outputs": [],
   "source": [
    "plt.title(\"Energy vs. Temperature\") \n",
    "plt.xlabel(\"Temperature Scale (T*)\"); \n",
    "plt.ylabel(\"Energy\"); \n",
    "plt.plot(temp_array, energy_array) \n",
    "plt.show()\n",
    "\n",
    "plt.title(\"Magnetism vs. Temperature\")  \n",
    "plt.xlabel(\"Temperature Scale (T*)\"); \n",
    "plt.ylabel(\"Magnetization\"); \n",
    "plt.plot(temp_array, mag_array)\n",
    "\n",
    "plt.show()"
   ]
  }
 ],
 "metadata": {
  "kernelspec": {
   "display_name": "Python 3",
   "language": "python",
   "name": "python3"
  },
  "language_info": {
   "codemirror_mode": {
    "name": "ipython",
    "version": 3
   },
   "file_extension": ".py",
   "mimetype": "text/x-python",
   "name": "python",
   "nbconvert_exporter": "python",
   "pygments_lexer": "ipython3",
   "version": "3.7.7"
  }
 },
 "nbformat": 4,
 "nbformat_minor": 5
}
