{
 "cells": [
  {
   "cell_type": "markdown",
   "id": "7eddc0bd",
   "metadata": {},
   "source": [
    "# Brute Force Ising Model\n"
   ]
  },
  {
   "cell_type": "markdown",
   "id": "ea4a7d6b",
   "metadata": {},
   "source": [
    "### Statistical mechanics\n",
    "Using *statistical mechanics*, the probability of finding a given state is given by\n",
    "$$ P = \\frac{e^{-\\beta H}}{Z} $$\n",
    "Where $\\beta = \\frac{1}{k_bT}$ and $Z$ is the **partition function**, given by \n",
    "$$ Z = \\sum_{states}e^{-\\beta H} $$\n",
    "However, this requires calculating energies of *all of the given states*, which scales as $2^{n_{spins}}$. \n",
    "\n",
    "This is pretty inefficient (i.e. for a 16x16 grid, $2^{16*16}\\approx n_{\\text{atoms in universe}}$)\n",
    "\n",
    "### Approximating the partition function\n",
    "A more reasonable approach is to randomly sample states and approximate an *average* energy of all states $\\bar{E}$, which is then used to calculate $Z$ \n",
    "\n",
    "$$ Z = n_{states}*\\bar{E}$$\n",
    "\n",
    "However, even this is flawed as there are more low-energy states than high-energy ones. For example, consider a randomly shuffled deck of cards. If 'disorder' is lower energy, there's many more 'disordered' configurations of the deck than 'ordered.' This makes it harder to calculate a true average\n"
   ]
  },
  {
   "cell_type": "markdown",
   "id": "8f3eb4a2",
   "metadata": {},
   "source": [
    "### import required libraries"
   ]
  },
  {
   "cell_type": "code",
   "execution_count": 1,
   "id": "e2190a7f",
   "metadata": {},
   "outputs": [],
   "source": [
    "import numpy as np\n",
    "from numpy import random\n",
    "from numba import jit"
   ]
  },
  {
   "cell_type": "markdown",
   "id": "801b20ae",
   "metadata": {},
   "source": [
    "### create functions for generating arrays, calculating energy and magnetism"
   ]
  },
  {
   "cell_type": "code",
   "execution_count": 2,
   "id": "a7207de2",
   "metadata": {},
   "outputs": [],
   "source": [
    "#Function to create random square array\n",
    "def gen_random_conf(n):\n",
    "    #input: n = length of array = width of array\n",
    "    #output: random 10x10 array (-1/2's and +1/2's)\n",
    "    \n",
    "    A = np.random.choice([-1,1], size=(n,n))\n",
    "    \n",
    "    return(A)"
   ]
  },
  {
   "cell_type": "code",
   "execution_count": 3,
   "id": "8d6c54e1",
   "metadata": {},
   "outputs": [],
   "source": [
    "@jit(nopython=True)\n",
    "def calculate_energy(spin):\n",
    "    \n",
    "    #Determine if array is square\n",
    "    spin_shape = spin.shape\n",
    "    \n",
    "    #Should end if array is not square\n",
    "    if spin_shape[0] != spin_shape[1]:\n",
    "        print(\"This is not a square matrix\")\n",
    "    #Continues code if array is square    \n",
    "    elif spin_shape[0] == spin_shape[1]:\n",
    "        N = spin_shape[0]\n",
    "        \n",
    "        energy = 0\n",
    "        J = 1\n",
    "\n",
    "        for i in range(N):  # 0, N-1\n",
    "          for j in range(N): # 0, N-1\n",
    "            # calculate four interactions\n",
    "            ii = i + -1\n",
    "            if (ii < 0): \n",
    "                ii = ii + N\n",
    "            if (ii >=N): \n",
    "                ii = ii - N\n",
    "            energy = energy + spin[i,j]*spin[ii, j] #spin--> array name\n",
    "\n",
    "            \n",
    "            jj = j + -1\n",
    "            if (jj < 0): \n",
    "                jj = jj + N\n",
    "            if (jj >=N): \n",
    "                jj = jj - N\n",
    "            energy = energy + spin[i,j]*spin[i, jj] \n",
    "\n",
    "            energy = -J * energy * 0.5\n",
    "    \n",
    "    return energy"
   ]
  },
  {
   "cell_type": "code",
   "execution_count": 4,
   "id": "abe87c34",
   "metadata": {},
   "outputs": [],
   "source": [
    "#Sums all indices of array(magnetic sum)\n",
    "def magnetism_sum(spin):\n",
    "    magnetism = np.sum(spin)\n",
    "    return magnetism"
   ]
  },
  {
   "cell_type": "markdown",
   "id": "25b4bdf5",
   "metadata": {},
   "source": [
    "### brute force loop\n",
    "- plot energy and magnetism vs. temperature\n",
    "- I don't have access to this code, Ava may have the only copy"
   ]
  },
  {
   "cell_type": "code",
   "execution_count": null,
   "id": "2d8f715c",
   "metadata": {},
   "outputs": [],
   "source": []
  }
 ],
 "metadata": {
  "kernelspec": {
   "display_name": "Python 3",
   "language": "python",
   "name": "python3"
  },
  "language_info": {
   "codemirror_mode": {
    "name": "ipython",
    "version": 3
   },
   "file_extension": ".py",
   "mimetype": "text/x-python",
   "name": "python",
   "nbconvert_exporter": "python",
   "pygments_lexer": "ipython3",
   "version": "3.7.7"
  }
 },
 "nbformat": 4,
 "nbformat_minor": 5
}
