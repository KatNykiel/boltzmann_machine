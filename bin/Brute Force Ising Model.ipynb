{
 "cells": [
  {
   "cell_type": "markdown",
   "id": "9d5202ef",
   "metadata": {},
   "source": [
    "# Brute Force Ising Model\n",
    "### Introduction\n",
    "The objective of this notebook is to attempt to observe a magnetic transition in a 2D Ising model using a brute force, random sampling approach\n",
    "\n",
    "Broadly, we want to test many configurations for each temperature, determine the average magnetic moment and energy, and plot each of these as a function of temperature. \n",
    "\n",
    "As a first guess, consider randomly sampling distributions and simply taking the average\n",
    "\n",
    "$$ \\langle M \\rangle = \\frac{\\sum_j^N M_j}{N} \\quad \\langle E \\rangle = \\frac{\\sum_j^N E_j}{N}$$\n",
    "\n",
    "However, this fails because randomly sampled distributions are often not representative of the most likely states. For example, consider a ferromagnetic system at low temperatures. Using our Hamiltonian, we expect this system to be fully ordered with parallel spins. \n",
    "<img src=\"./parallel.png\" alt=\"parallel\" width=\"280\">Yet, there are only 2 configurations (all spin up and all spin down) of the $2^{n_{spins}}$ combinations. Random selection tends to result in disordered, even spin up/down configurations, i.e. shuffling a deck of cards yields 'random' results, not ordered configurations\n",
    "### Statistical mechanics\n",
    "Instead of equally weighting all configurations, we can improve our model if we instead weigh each configuration by the probability from a **Boltzmann distribution**\n",
    "This probability of finding a given state is given by\n",
    "$$ P = \\frac{e^{-\\beta H}}{Z} $$\n",
    "Where $\\beta = \\frac{1}{k_bT}$ and $Z$ is the **partition function**, given by \n",
    "$$ Z = \\sum_{states}e^{-\\beta H} $$\n",
    "This accounts for the lack of sampling ordered states. However, the partition function requires calculating energies of *all of the given states*, which scales as $2^{n_{spins}}$. This is pretty inefficient (i.e. for a 16x16 grid, $2^{16*16}\\approx n_{\\text{atoms in universe}}$). \n",
    "\n",
    "### Modified statistical mechanics\n",
    "Instead, we're limited to an approximation of the partition function; that is, \n",
    "\n",
    "$$ Z = \\sum_{\\text{sampled states}}e^{-\\beta H} $$\n",
    "\n",
    "This results in the equations for average magnetism and energy given below\n",
    "\n",
    "$$ \\langle M\\rangle = \\frac{\\sum_jM_j * e^{-\\beta E_j}}{\\sum_j {e^{-\\beta E_j}}}$$\n",
    "\n",
    "$$ \\langle E\\rangle = \\frac{\\sum_jE_j * e^{-\\beta E_j}}{\\sum_j {e^{-\\beta E_j}}}$$\n"
   ]
  },
  {
   "cell_type": "markdown",
   "id": "1410f382",
   "metadata": {},
   "source": [
    "### Import required libraries"
   ]
  },
  {
   "cell_type": "code",
   "execution_count": 2,
   "id": "d5f69cb2",
   "metadata": {},
   "outputs": [],
   "source": [
    "import numpy as np\n",
    "import matplotlib.pyplot as plt\n",
    "from numpy import random\n",
    "from numba import jit"
   ]
  },
  {
   "cell_type": "markdown",
   "id": "45c05090",
   "metadata": {},
   "source": [
    "### Create functions for generating random configurations, calculating energy and magnetism"
   ]
  },
  {
   "cell_type": "code",
   "execution_count": 3,
   "id": "7db640d3",
   "metadata": {},
   "outputs": [],
   "source": [
    "# Function to create random square array\n",
    "def gen_random_conf(n):\n",
    "    # input: n = length of array = width of array\n",
    "    # output: random n x n array (-1's and +1's)\n",
    "    \n",
    "    A = np.random.choice([-1,1], size=(n,n))\n",
    "    \n",
    "    return(A)"
   ]
  },
  {
   "cell_type": "code",
   "execution_count": 4,
   "id": "10ef4f7b",
   "metadata": {},
   "outputs": [],
   "source": [
    "@jit(nopython=True)\n",
    "# Calculate energy of a given spin array\n",
    "def calculate_energy(spin):\n",
    "    \n",
    "    #Determine if array is square\n",
    "    spin_shape = spin.shape\n",
    "    \n",
    "    #End if array is not square\n",
    "    if spin_shape[0] != spin_shape[1]:\n",
    "        print(\"This is not a square matrix\")\n",
    "        \n",
    "    #Continues code if array is square    \n",
    "    elif spin_shape[0] == spin_shape[1]:\n",
    "        N = spin_shape[0]\n",
    "        \n",
    "        energy = 0\n",
    "        J = 1 # ferromagnetic\n",
    "\n",
    "        for i in range(N):  # 0, N-1\n",
    "          for j in range(N): # 0, N-1\n",
    "            # Calculate four interactions\n",
    "            ii = i + -1\n",
    "            if (ii < 0): \n",
    "                ii = ii + N\n",
    "            if (ii >=N): \n",
    "                ii = ii - N\n",
    "            energy = energy + spin[i,j]*spin[ii, j] \n",
    "\n",
    "            \n",
    "            jj = j + -1\n",
    "            if (jj < 0): \n",
    "                jj = jj + N\n",
    "            if (jj >=N): \n",
    "                jj = jj - N\n",
    "            energy = energy + spin[i,j]*spin[i, jj] \n",
    "\n",
    "        energy = -J * energy * 0.5\n",
    "    \n",
    "    return energy"
   ]
  },
  {
   "cell_type": "code",
   "execution_count": 5,
   "id": "d35a5a05",
   "metadata": {},
   "outputs": [],
   "source": [
    "# Sums all indices of array (magnetic moment)\n",
    "def magnetism_sum(spin):\n",
    "    magnetism = np.sum(spin)\n",
    "    return magnetism"
   ]
  },
  {
   "cell_type": "markdown",
   "id": "27d3e2b4",
   "metadata": {},
   "source": [
    "### Generating M vs. T and E vs. T plots"
   ]
  },
  {
   "cell_type": "code",
   "execution_count": 6,
   "id": "162486a8",
   "metadata": {},
   "outputs": [
    {
     "name": "stderr",
     "output_type": "stream",
     "text": [
      "/apps/share64/debian7/anaconda/anaconda-6/lib/python3.7/site-packages/ipykernel_launcher.py:28: RuntimeWarning: overflow encountered in exp\n",
      "/apps/share64/debian7/anaconda/anaconda-6/lib/python3.7/site-packages/ipykernel_launcher.py:31: RuntimeWarning: invalid value encountered in double_scalars\n",
      "/apps/share64/debian7/anaconda/anaconda-6/lib/python3.7/site-packages/ipykernel_launcher.py:36: RuntimeWarning: invalid value encountered in double_scalars\n"
     ]
    }
   ],
   "source": [
    "# Number of configurations that will contribute to averages\n",
    "iterations = 10000\n",
    "# Array size\n",
    "N = 10\n",
    "\n",
    "# Intializing arrays\n",
    "beta_array, temp_array, energy_array, mag_array = [], [], [], []\n",
    "\n",
    "# Determing beta based on temperature & initializing variables/resetting variables after each loop\n",
    "for temp in np.linspace(0.0001, 1, 100):\n",
    "    beta = 1/temp # J/kT\n",
    "    energy = 0.\n",
    "    magnetism = 0. \n",
    "    denominator = 0. \n",
    "    \n",
    "    # Generates given number of configurations and considers their energies/magnetizations in the averages\n",
    "    for i in range(iterations):\n",
    "        # Creates new random configuration\n",
    "        spin = gen_random_conf(N)\n",
    "        \n",
    "        # Calculates the magnetism of configuration\n",
    "        mag = np.sum(spin)/N**2 \n",
    "\n",
    "        # Calculates the energy of configuration\n",
    "        e = calculate_energy(spin)/N**2\n",
    "        \n",
    "        # Determines bolztman weight\n",
    "        boltz = np.exp(-1*beta*e)\n",
    "        # Values are included in the summations(numerators of equations for avg. magetism and energy)\n",
    "        energy += e * boltz\n",
    "        magnetism += mag * boltz\n",
    "        denominator += boltz\n",
    "    \n",
    "    # Calculates average magnetism and energy\n",
    "    magnetism = magnetism/denominator\n",
    "    energy = energy/denominator\n",
    "\n",
    "    # Adds values to arrays\n",
    "    beta_array.append(beta)\n",
    "    temp_array.append(1/beta)\n",
    "    energy_array.append(energy)\n",
    "    mag_array.append(abs(magnetism))"
   ]
  },
  {
   "cell_type": "code",
   "execution_count": 7,
   "id": "f41ebdac",
   "metadata": {},
   "outputs": [
    {
     "data": {
      "image/png": "[encoded data removed]",
      "text/plain": [
       "<Figure size 432x288 with 1 Axes>"
      ]
     },
     "metadata": {
      "needs_background": "light"
     },
     "output_type": "display_data"
    },
    {
     "data": {
      "image/png": "[encoded data removed]",
      "text/plain": [
       "<Figure size 432x288 with 1 Axes>"
      ]
     },
     "metadata": {
      "needs_background": "light"
     },
     "output_type": "display_data"
    }
   ],
   "source": [
    "# Generate plots of energy and magnetism vs. temperature\n",
    "plt.title(\"Energy vs. Temperature\") \n",
    "plt.xlabel(\"Temperature Scale (T*)\"); \n",
    "plt.ylabel(\"Energy\"); \n",
    "plt.plot(temp_array, energy_array) \n",
    "plt.show()\n",
    "\n",
    "plt.title(\"Magnetism vs. Temperature\")  \n",
    "plt.xlabel(\"Temperature Scale (T*)\"); \n",
    "plt.ylabel(\"Magnetization\"); \n",
    "plt.plot(temp_array, mag_array)\n",
    "\n",
    "plt.show()"
   ]
  },
  {
   "cell_type": "markdown",
   "id": "276e4c29",
   "metadata": {},
   "source": [
    "## Conclusions\n",
    "We see that the brute force approach does not show a phase transition or any magnetic order.\n",
    "\n",
    "The E vs. T graph generally follows the Boltzmann distribution, but without calculating the full partition function a magnetic transition is not observed\n",
    "\n",
    "How can we take a problem which would take the age of the universe to compute, and solve it in a few minutes on a laptop? By implementing a [monte carlo approach](Monte%20Carlo%20Ising%20Model.ipynb)"
   ]
  },
  {
   "cell_type": "code",
   "execution_count": null,
   "id": "6cb0d7f8",
   "metadata": {},
   "outputs": [],
   "source": []
  }
 ],
 "metadata": {
  "kernelspec": {
   "display_name": "Python 3",
   "language": "python",
   "name": "python3"
  }
 },
 "nbformat": 4,
 "nbformat_minor": 5
}
