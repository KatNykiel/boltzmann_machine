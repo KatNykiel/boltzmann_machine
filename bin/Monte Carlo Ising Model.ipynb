{
 "cells": [
  {
   "cell_type": "markdown",
   "id": "42ff70a2",
   "metadata": {},
   "source": [
    "# Monte Carlo Ising Model"
   ]
  },
  {
   "cell_type": "markdown",
   "id": "a473d096",
   "metadata": {},
   "source": [
    "### Metropolis-Hastings algorithm\n",
    "\n",
    "Instead of requiring us to calculate the partition function to evaluate probability, the *Metropolis-Hastings algorithm* allows us to compare **relative likelihoods** of the new and old configurations\n",
    "\n",
    "For example, say we propose a randomly flipped spin. We can write expressions for the probability of each configuration\n",
    "$$ P_{before} = \\frac{e^{-\\beta H_{before}}}{Z} \\quad  P_{after} = \\frac{e^{-\\beta H_{after}}}{Z} $$\n",
    "\n",
    "If we instead look at the relative likelihood, the difficult-to-compute partition function vanishes\n",
    "$$P = \\frac{P_{after}}{P_{before}} = \\frac{e^{-\\beta H_{after}}/Z}{e^{-\\beta H_{before}}/Z} = \\frac{e^{-\\beta H_{after}}}{e^{-\\beta H_{before}}} \\quad \\text{where }0<P<1$$\n",
    "\n",
    "This solves the difficult problem of calculating the partition function by only requiring that we know a function *proportional* to the probability density, without the need for normalization"
   ]
  },
  {
   "cell_type": "markdown",
   "id": "d047362a",
   "metadata": {},
   "source": [
    "### import libraries"
   ]
  },
  {
   "cell_type": "code",
   "execution_count": 1,
   "id": "f19f23ab",
   "metadata": {},
   "outputs": [],
   "source": [
    "import numpy as np\n",
    "import plotly.graph_objects as go\n",
    "import time\n",
    "import matplotlib.pyplot as plt\n",
    "from numpy import random\n",
    "from numba import jit"
   ]
  },
  {
   "cell_type": "markdown",
   "id": "17041e6b",
   "metadata": {},
   "source": [
    "### create functions for generating arrays, calculating energy and magnetism"
   ]
  },
  {
   "cell_type": "code",
   "execution_count": 2,
   "id": "8b0c6859",
   "metadata": {},
   "outputs": [],
   "source": [
    "#Function to create random square array\n",
    "def gen_random_conf(n):\n",
    "    #input: n = length of array = width of array\n",
    "    #output: random 10x10 array (-1/2's and +1/2's)\n",
    "    \n",
    "    A = np.random.choice([-1,1], size=(n,n))\n",
    "    \n",
    "    return(A)"
   ]
  },
  {
   "cell_type": "code",
   "execution_count": 3,
   "id": "0bafc7cb",
   "metadata": {},
   "outputs": [],
   "source": [
    "@jit(nopython=True)\n",
    "def calculate_energy(spin):\n",
    "    \n",
    "    #Determine if array is square\n",
    "    spin_shape = spin.shape\n",
    "    \n",
    "    #Should end if array is not square\n",
    "    if spin_shape[0] != spin_shape[1]:\n",
    "        print(\"This is not a square matrix\")\n",
    "    #Continues code if array is square    \n",
    "    elif spin_shape[0] == spin_shape[1]:\n",
    "        N = spin_shape[0]\n",
    "        \n",
    "        energy = 0\n",
    "        J = 1\n",
    "\n",
    "        for i in range(N):  # 0, N-1\n",
    "          for j in range(N): # 0, N-1\n",
    "            # calculate four interactions\n",
    "            ii = i + -1\n",
    "            if (ii < 0): \n",
    "                ii = ii + N\n",
    "            if (ii >=N): \n",
    "                ii = ii - N\n",
    "            energy = energy + spin[i,j]*spin[ii, j] #spin--> array name\n",
    "\n",
    "            \n",
    "            jj = j + -1\n",
    "            if (jj < 0): \n",
    "                jj = jj + N\n",
    "            if (jj >=N): \n",
    "                jj = jj - N\n",
    "            energy = energy + spin[i,j]*spin[i, jj] \n",
    "\n",
    "            energy = -J * energy * 0.5\n",
    "    \n",
    "    return energy"
   ]
  },
  {
   "cell_type": "code",
   "execution_count": 4,
   "id": "c5c86e05",
   "metadata": {},
   "outputs": [],
   "source": [
    "#Sums all indices of array(magnetic sum)\n",
    "def magnetism_sum(spin):\n",
    "    magnetism = np.sum(spin)\n",
    "    return magnetism"
   ]
  },
  {
   "cell_type": "markdown",
   "id": "4f9378bf",
   "metadata": {},
   "source": [
    "### Metropolis implementation"
   ]
  },
  {
   "cell_type": "code",
   "execution_count": 5,
   "id": "ecc93cd6",
   "metadata": {},
   "outputs": [],
   "source": [
    "#Metropolis function that uses beta as an input\n",
    "#@jit(nopython = True)\n",
    "def metro(beta, spin):\n",
    "    \n",
    "    #Confirm that spin is a square array\n",
    "    spin_shape = spin.shape \n",
    "    \n",
    "    if spin_shape[0] != spin_shape[1]:\n",
    "        print(\"This is not a square matrix\")\n",
    "        return   \n",
    "    elif spin_shape[0] == spin_shape[1]:\n",
    "        N = spin_shape[0]\n",
    "    \n",
    "    #Choose random index\n",
    "    a = np.random.randint(0, N)\n",
    "    b = np.random.randint(0, N)\n",
    "    random =  spin[a, b]\n",
    "    \n",
    "    \n",
    "    #Calulate difference between original isolated energy and new isolated energy\n",
    "    J = 1\n",
    "    before_flip = -J*(spin[(a+1)%N,b]*random + spin[a,(b+1)%N]*random + spin[(a-1)%N,b]*random + spin[a,(b-1)%N]*random)\n",
    "    random = random*-1\n",
    "    after_flip = -J*(spin[(a+1)%N,b]*random + spin[a,(b+1)%N]*random + spin[(a-1)%N,b]*random + spin[a,(b-1)%N]*random)\n",
    "    delta = after_flip - before_flip\n",
    "    \n",
    "    #Deteremine randome float for comparing probability to\n",
    "    chance = np.random.rand()\n",
    "    \n",
    "    #Accept change if: 1) energy is lowered or 2) probabilty is under random value\n",
    "    if delta < 0:\n",
    "        spin[a,b] *= -1\n",
    "    elif chance <= np.exp(-delta*beta):\n",
    "        spin[a,b] *= -1\n",
    "    elif chance >np.exp(-delta*beta):\n",
    "        spin[a,b] *= 1\n",
    "        \n",
    "    return spin"
   ]
  },
  {
   "cell_type": "code",
   "execution_count": 11,
   "id": "09365591",
   "metadata": {},
   "outputs": [],
   "source": [
    "#Parameters\n",
    "\n",
    "#Number of temperature points on graph\n",
    "temp_point = 50 #Prof. Strachan recomended 50 tmep points\n",
    "#Size of lattice\n",
    "N = 10\n",
    "#Number of Metropolis sweeps performed\n",
    "equi_iterations = 1000\n",
    "metro_iterations = 1000*(N**2)\n",
    "#Temperate range\n",
    "T = np.linspace(0.0001, 5, temp_point);\n",
    "#Creates arrays to store magetism/energy points\n",
    "M = np.zeros(temp_point)\n",
    "E = np.zeros(temp_point)\n",
    "#Create arrays to store standard deviation\n",
    "mag_std = np.zeros(temp_point)\n",
    "ene_std = np.zeros(temp_point)"
   ]
  },
  {
   "cell_type": "code",
   "execution_count": 12,
   "id": "9949be1e",
   "metadata": {},
   "outputs": [
    {
     "name": "stderr",
     "output_type": "stream",
     "text": [
      "/apps/share64/debian7/anaconda/anaconda-6/lib/python3.7/site-packages/ipykernel_launcher.py:46: RuntimeWarning: invalid value encountered in sqrt\n"
     ]
    },
    {
     "name": "stdout",
     "output_type": "stream",
     "text": [
      "nan\n",
      "21.730170546607347\n",
      "It took 219.90363121032715 seconds total to run 100000 iterations.\n"
     ]
    }
   ],
   "source": [
    "start_time_tot = time.time()\n",
    "for x in range(temp_point):  \n",
    "    #Initalizes array for each temperature point\n",
    "    spin = gen_random_conf(N)\n",
    "    #Calculates beta for each temperature point\n",
    "    new_beta=1.0/(T[x]) \n",
    "    \n",
    "    #Counts metro steps run for each temperature point\n",
    "    s = 0\n",
    "    \n",
    "    \n",
    "\n",
    "    #final_mag = []\n",
    "    #final_ene = []\n",
    "    ave_energy, ave_energy2, ave_mag, ave_mag2 = 0,0,0,0\n",
    "    count = 0\n",
    "    \n",
    "    #Equilibriation\n",
    "    for i in range(equi_iterations):\n",
    "        spin = metro(new_beta, spin) \n",
    "    #Metropolis sweeps \n",
    "    for i in range(metro_iterations):\n",
    "        \n",
    "        s += 1\n",
    "        \n",
    "        #Inner for loop used to record only every 10 MC sweeps\n",
    "        spin = metro(new_beta, spin)\n",
    "        if s%10 == 0:\n",
    "            \n",
    "        #Calculates magnetism/energy for each temperature point\n",
    "            mag = magnetism_sum(spin) \n",
    "            ene = calculate_energy(spin)\n",
    "            ave_energy += ene\n",
    "            ave_energy2 += ene*ene\n",
    "            ave_mag += mag\n",
    "            ave_mag2 += mag*mag\n",
    "            count += 1\n",
    "    \n",
    "    #Take average of all sampled points for given temperature\n",
    "    ave_energy = ave_energy/(count)\n",
    "    ave_energy2 = ave_energy2/(count)\n",
    "    ave_mag = ave_mag/(count)\n",
    "    ave_mag2 = ave_mag2/(count)\n",
    "    \n",
    "    #Append standard deviation to array\n",
    "    ene_std[x] = np.sqrt(ave_energy2 - ave_energy*ave_energy)\n",
    "    mag_std[x] = np.sqrt(ave_mag2 - ave_mag*ave_mag)\n",
    "    \n",
    "    \n",
    "    #Divide by number of sites and append to array\n",
    "    M[x] = (1/(N**2))*ave_mag\n",
    "    E[x] = (1/(N**2))*ave_energy\n",
    "    \n",
    "end_time_tot = time.time();\n",
    "\n",
    "print (np.average(ene_std))\n",
    "print (np.average(mag_std))\n",
    "\n",
    "print(\"It took \" + str(end_time_tot-start_time_tot) + \" seconds total to run \" + str(metro_iterations) + \" iterations.\")"
   ]
  },
  {
   "cell_type": "markdown",
   "id": "f8a47bbe",
   "metadata": {},
   "source": [
    "### visualize results"
   ]
  },
  {
   "cell_type": "code",
   "execution_count": 14,
   "id": "34df15d5",
   "metadata": {},
   "outputs": [
    {
     "data": {
      "image/png": "[encoded data removed]",
      "text/plain": [
       "<Figure size 432x288 with 1 Axes>"
      ]
     },
     "metadata": {
      "needs_background": "light"
     },
     "output_type": "display_data"
    },
    {
     "data": {
      "image/png": "[encoded data removed]",
      "text/plain": [
       "<Figure size 432x288 with 1 Axes>"
      ]
     },
     "metadata": {
      "needs_background": "light"
     },
     "output_type": "display_data"
    }
   ],
   "source": [
    "plt.title(\"Energy vs. Temperature\") \n",
    "plt.xlabel(\"Temperature Scale (T*)\"); \n",
    "plt.ylabel(\"Energy\"); \n",
    "plt.plot(T, E) \n",
    "plt.show()\n",
    "\n",
    "plt.title(\"Magnetism vs. Temperature\")  \n",
    "plt.xlabel(\"Temperature Scale (T*)\"); \n",
    "plt.ylabel(\"Magnetization\"); \n",
    "plt.plot(T, abs(M))\n",
    "plt.show()"
   ]
  },
  {
   "cell_type": "code",
   "execution_count": null,
   "id": "0ddd0c02",
   "metadata": {},
   "outputs": [],
   "source": []
  }
 ],
 "metadata": {
  "kernelspec": {
   "display_name": "Python 3",
   "language": "python",
   "name": "python3"
  },
  "language_info": {
   "codemirror_mode": {
    "name": "ipython",
    "version": 3
   },
   "file_extension": ".py",
   "mimetype": "text/x-python",
   "name": "python",
   "nbconvert_exporter": "python",
   "pygments_lexer": "ipython3",
   "version": "3.7.7"
  }
 },
 "nbformat": 4,
 "nbformat_minor": 5
}
