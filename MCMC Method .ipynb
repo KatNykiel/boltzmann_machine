{
 "cells": [
  {
   "cell_type": "code",
   "execution_count": 2,
   "metadata": {},
   "outputs": [],
   "source": [
    "import numpy as np\n",
    "\n",
    "def gen_random_conf(n):\n",
    "    #input: n = length of array = width of array\n",
    "    #output: random 10x10 array (-1/2's and +1/2's)\n",
    "    \n",
    "    A = np.random.choice([-0.5,0.5], size=(n,n))\n",
    "    \n",
    "    return(A)"
   ]
  },
  {
   "cell_type": "code",
   "execution_count": 25,
   "metadata": {},
   "outputs": [],
   "source": [
    "#Compute energy as a function of J (i.e. assume J = 1)\n",
    "# This is inefficient but I think easier to understand \n",
    "# Loop over all spins\n",
    "def calculate_energy(N, spin):\n",
    "        \n",
    "    energy = 0\n",
    "    #get_ising_plot(array = spin);\n",
    "    \n",
    "    for i in range(N):  # 0, N-1\n",
    "      for j in range(N): # 0, N-1\n",
    "        # calculate four interactions\n",
    "        for delta_i in range(-1,2,2):  # -1 and 1\n",
    "          ii = i + delta_i\n",
    "          if (ii < 0): \n",
    "            ii = ii + N\n",
    "          if (ii >=N): \n",
    "            ii = ii - N\n",
    "          energy = energy - spin[i,j]*spin[ii, j] #spin--> array name\n",
    "        \n",
    "        for delta_j in range(-1,2,2):  # -1 and 1\n",
    "          jj = j + delta_j\n",
    "          if (jj < 0): \n",
    "            jj = jj + N\n",
    "          if (jj >=N): \n",
    "            jj = jj - N\n",
    "          energy = energy - spin[i,j]*spin[i, jj] \n",
    "        \n",
    "        energy = energy * 0.5\n",
    "    \n",
    "\n",
    "    return energy"
   ]
  },
  {
   "cell_type": "code",
   "execution_count": 26,
   "metadata": {},
   "outputs": [],
   "source": [
    "def magnetism_sum(spin):\n",
    "    magnetism = np.sum(spin)\n",
    "    \n",
    "    return magnetism"
   ]
  },
  {
   "cell_type": "code",
   "execution_count": 27,
   "metadata": {},
   "outputs": [
    {
     "name": "stdout",
     "output_type": "stream",
     "text": [
      "3.3.1\n"
     ]
    }
   ],
   "source": [
    "#FIRST 2 CELLS ARE KAT'S WORK\n",
    "import  numpy as np\n",
    "import matplotlib.pyplot as plt\n",
    "\n",
    "import matplotlib\n",
    "print(matplotlib.__version__)"
   ]
  },
  {
   "cell_type": "code",
   "execution_count": 28,
   "metadata": {},
   "outputs": [],
   "source": [
    "def get_ising_plot(array = [[1/2,-1/2],[-1/2,1/2]]):\n",
    "    # input: an NxN array corresponding to spins in an Ising model\n",
    "    # output: a visual representation of the array (matplotlib figure)\n",
    "\n",
    "    # Verify input is a square numpy array\n",
    "    ising_array = np.array(array)\n",
    "    if ising_array.shape[0] != ising_array.shape[1]:\n",
    "        print(\"Currently this code only supports square arrays, sorry!\")\n",
    "        return\n",
    "\n",
    "    # Create the figure\n",
    "    f = plt.figure()\n",
    "    nx = range(ising_array.shape[0])\n",
    "    ny = range(ising_array.shape[1])\n",
    "    X, Y = np.meshgrid(nx,ny)\n",
    "    plt.pcolormesh(X, Y, ising_array, cmap=plt.cm.Greys);\n",
    "\n",
    "    # Format the figure\n",
    "    frame = plt.gca()\n",
    "    frame.set_aspect('equal')\n",
    "    frame.axes.xaxis.set_visible(False)\n",
    "    frame.axes.yaxis.set_visible(False)\n",
    "    f.set_dpi(180)\n",
    "\n",
    "    plt.show()\n",
    "\n",
    "    return f\n",
    "\n",
    "\n"
   ]
  },
  {
   "cell_type": "code",
   "execution_count": 8,
   "metadata": {
    "scrolled": true
   },
   "outputs": [
    {
     "name": "stderr",
     "output_type": "stream",
     "text": [
      "/apps/share64/debian7/anaconda/anaconda-6/lib/python3.7/site-packages/ipykernel_launcher.py:16: MatplotlibDeprecationWarning: shading='flat' when X and Y have the same dimensions as C is deprecated since 3.3.  Either specify the corners of the quadrilaterals with X and Y, or pass shading='auto', 'nearest' or 'gouraud', or set rcParams['pcolor.shading'].  This will become an error two minor releases later.\n",
      "  app.launch_new_instance()\n"
     ]
    },
    {
     "data": {
      "image/png": "[encoded data removed]",
      "text/plain": [
       "<Figure size 1080x720 with 1 Axes>"
      ]
     },
     "metadata": {
      "needs_background": "light"
     },
     "output_type": "display_data"
    }
   ],
   "source": [
    "get_ising_plot(array = gen_random_conf(10));"
   ]
  },
  {
   "cell_type": "code",
   "execution_count": 32,
   "metadata": {
    "scrolled": false
   },
   "outputs": [
    {
     "name": "stderr",
     "output_type": "stream",
     "text": [
      "/apps/share64/debian7/anaconda/anaconda-6/lib/python3.7/site-packages/ipykernel_launcher.py:16: MatplotlibDeprecationWarning: shading='flat' when X and Y have the same dimensions as C is deprecated since 3.3.  Either specify the corners of the quadrilaterals with X and Y, or pass shading='auto', 'nearest' or 'gouraud', or set rcParams['pcolor.shading'].  This will become an error two minor releases later.\n",
      "  app.launch_new_instance()\n"
     ]
    },
    {
     "data": {
      "image/png": "[encoded data removed]",
      "text/plain": [
       "<Figure size 1080x720 with 1 Axes>"
      ]
     },
     "metadata": {
      "needs_background": "light"
     },
     "output_type": "display_data"
    },
    {
     "data": {
      "image/png": "[encoded data removed]",
      "text/plain": [
       "<Figure size 1080x720 with 1 Axes>"
      ]
     },
     "metadata": {
      "needs_background": "light"
     },
     "output_type": "display_data"
    }
   ],
   "source": [
    "spin = gen_random_conf(10)\n",
    "for i in range(1):\n",
    "    metropolis(10,spin)"
   ]
  },
  {
   "cell_type": "code",
   "execution_count": 31,
   "metadata": {},
   "outputs": [],
   "source": [
    "def metropolis(N, spin):\n",
    "    k = 8.617E-5 #boltzman constant (eV/K)\n",
    "    T = 300 #K\n",
    "    \n",
    "    \n",
    "    original_energy = calculate_energy(10, spin)\n",
    "    \n",
    "    get_ising_plot(array = spin);\n",
    "    \n",
    "    new_energy = 0\n",
    "    \n",
    "\n",
    "    a = np.random.randint(0, N) \n",
    "    b = np.random.randint(0, N)\n",
    "    random =  spin[a, b]\n",
    "\n",
    "        #recalculate energy a\n",
    "    for delta_a in range(-1,2,2):  # -1 and 1\n",
    "        aa = a + delta_a\n",
    "        if (a < 0): \n",
    "            aa = aa + N\n",
    "        if (aa >=N): \n",
    "            aa = aa - N\n",
    "        new_energy = new_energy - spin[a,b]*spin[aa, b] #spin--> array name\n",
    "\n",
    "    for delta_b in range(-1,2,2):  # -1 and 1\n",
    "        bb = b + delta_b\n",
    "        if (bb < 0): \n",
    "            bb = bb + N\n",
    "        if (bb >=N): \n",
    "            bb = bb - N\n",
    "    new_energy = new_energy - spin[a,b]*spin[a, bb] \n",
    "\n",
    "    new_energy = new_energy * 0.5\n",
    "\n",
    "    if new_energy < original_energy:\n",
    "        original_energy = new_energy\n",
    "        random *= -1\n",
    "    #if new system has higher energy, spin accepted with given probability \n",
    "    #elif np.rand() < np.exp(-new_energy*k*T):\n",
    "        #random *= -1\n",
    "    spin[a, b] = random\n",
    "\n",
    "    get_ising_plot(array = spin);\n",
    "\n",
    "    return spin"
   ]
  },
  {
   "cell_type": "code",
   "execution_count": null,
   "metadata": {},
   "outputs": [],
   "source": []
  }
 ],
 "metadata": {
  "kernelspec": {
   "display_name": "Python 3",
   "language": "python",
   "name": "python3"
  },
  "language_info": {
   "codemirror_mode": {
    "name": "ipython",
    "version": 3
   },
   "file_extension": ".py",
   "mimetype": "text/x-python",
   "name": "python",
   "nbconvert_exporter": "python",
   "pygments_lexer": "ipython3",
   "version": "3.7.7"
  }
 },
 "nbformat": 4,
 "nbformat_minor": 2
}
