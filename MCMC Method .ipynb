{
 "cells": [
  {
   "cell_type": "code",
   "execution_count": 1,
   "metadata": {},
   "outputs": [],
   "source": [
    "import numpy as np\n",
    "import copy\n",
    "import plotly.graph_objects as go\n",
    "import time\n",
    "import matplotlib.pyplot as plt\n",
    "from numpy import random\n",
    "from numba import jit\n",
    "import copy"
   ]
  },
  {
   "cell_type": "code",
   "execution_count": 2,
   "metadata": {},
   "outputs": [],
   "source": [
    "def gen_random_conf(n):\n",
    "    #input: n = length of array = width of array\n",
    "    #output: random 10x10 array (-1/2's and +1/2's)\n",
    "    \n",
    "    A = np.random.choice([-0.5,0.5], size=(n,n))\n",
    "    \n",
    "    return(A)"
   ]
  },
  {
   "cell_type": "code",
   "execution_count": 3,
   "metadata": {},
   "outputs": [],
   "source": [
    "#Compute energy as a function of J (i.e. assume J = 1)\n",
    "# This is inefficient but I think easier to understand \n",
    "# Loop over all spins\n",
    "@jit(nopython=True)\n",
    "def calculate_energy(spin):\n",
    "    \n",
    "    spin_shape = spin.shape\n",
    "    \n",
    "    if spin_shape[0] != spin_shape[1]:\n",
    "        print(\"This is not a square matrix\")\n",
    "        #quit()\n",
    "        \n",
    "    elif spin_shape[0] == spin_shape[1]:\n",
    "        N = spin_shape[0]\n",
    "        \n",
    "        energy = 0\n",
    "        #get_ising_plot_1(array = spin);\n",
    "\n",
    "        for i in range(N):  # 0, N-1\n",
    "          for j in range(N): # 0, N-1\n",
    "            # calculate four interactions\n",
    "            for delta_i in range(-1,2,2):  # -1 and 1\n",
    "              ii = i + delta_i\n",
    "              if (ii < 0): \n",
    "                ii = ii + N\n",
    "              if (ii >=N): \n",
    "                ii = ii - N\n",
    "              energy = energy - spin[i,j]*spin[ii, j] #spin--> array name\n",
    "\n",
    "            for delta_j in range(-1,2,2):  # -1 and 1\n",
    "              jj = j + delta_j\n",
    "              if (jj < 0): \n",
    "                jj = jj + N\n",
    "              if (jj >=N): \n",
    "                jj = jj - N\n",
    "              energy = energy - spin[i,j]*spin[i, jj] \n",
    "\n",
    "            energy = energy * 0.5\n",
    "    \n",
    "\n",
    "    return energy"
   ]
  },
  {
   "cell_type": "code",
   "execution_count": 4,
   "metadata": {},
   "outputs": [],
   "source": [
    "def magnetism_sum(spin):\n",
    "    magnetism = np.sum(spin)\n",
    "    return magnetism"
   ]
  },
  {
   "cell_type": "markdown",
   "metadata": {},
   "source": [
    "## Metropolis-Hastings code\n",
    "Generally we want to follow this Monte Carlo algorithm to determine how the Ising array changes over time\n",
    "1. Start with some given Ising array\n",
    "2. Propose a random change of spin\n",
    "3. Calculate the energy of the new configuration\n",
    "4. Determine if change is accepted\n",
    "    - if change lowers energy, accept it\n",
    "    - if change raises energy, accept it *with some given probability*\n",
    "\n",
    "There's a few different methods we can use to calculate this probability\n",
    "### Statistical mechanics\n",
    "Using *statistical mechanics*, the probability of finding a given state is given by\n",
    "$$ P = \\frac{e^{-\\beta H}}{Z} $$\n",
    "Where $\\beta = \\frac{1}{k_bT}$ and $Z$ is the **partition function**, given by \n",
    "$$ Z = \\sum_{states}e^{-\\beta H} $$\n",
    "However, this requires calculating energies of *all of the given states*, which scales as $2^{n_{spins}}$. \n",
    "\n",
    "This is pretty inefficient (i.e. for a 16x16 grid, $2^{16*16}\\approx n_{\\text{atoms in universe}}$)\n",
    "\n",
    "### Approximating the partition function\n",
    "A more reasonable approach is to randomly sample states and approximate an *average* energy of all states $\\bar{E}$, which is then used to calculate $Z$ \n",
    "\n",
    "$$ Z = n_{states}*\\bar{E}$$\n",
    "\n",
    "However, even this is flawed as there are more low-energy states than high-energy ones. For example, consider a randomly shuffled deck of cards. If 'disorder' is lower energy, there's many more 'disordered' configurations of the deck than 'ordered.' This makes it harder to calculate a true average\n",
    "\n",
    "### Metropolis-Hastings algorithm\n",
    "\n",
    "Instead of requiring us to calculate the partition function to evaluate probability, the *Metropolis-Hastings algorithm* allows us to compare **relative likelihoods** of the new and old configurations\n",
    "\n",
    "For example, say we propose a randomly flipped spin. We can write expressions for the probability of each configuration\n",
    "$$ P_{before} = \\frac{e^{-\\beta H_{before}}}{Z} \\quad  P_{after} = \\frac{e^{-\\beta H_{after}}}{Z} $$\n",
    "\n",
    "If we instead look at the relative likelihood, the difficult-to-compute partition function vanishes\n",
    "$$P = \\frac{P_{after}}{P_{before}} = \\frac{e^{-\\beta H_{after}}/Z}{e^{-\\beta H_{before}}/Z} = \\frac{e^{-\\beta H_{after}}}{e^{-\\beta H_{before}}} \\quad \\text{where }0<P<1$$\n",
    "\n",
    "This solves the difficult problem of calculating the partition function by only requiring that we know a function *proportional* to the probability density, without the need for normalization"
   ]
  },
  {
   "cell_type": "code",
   "execution_count": null,
   "metadata": {},
   "outputs": [],
   "source": [
    "def metropolis(N, spin):\n",
    "    k = 8.617E-5 #boltzman constant (eV/K)\n",
    "    T = 300 #K\n",
    "    beta = 1/(k*T)\n",
    "    \n",
    "    original_energy = calculate_energy(10, spin)\n",
    "    \n",
    "    #get_ising_plot_1(spin);\n",
    "    \n",
    "    # TODO: use your calculate_energy function for the new configuration\n",
    "    new_energy = 0\n",
    "    \n",
    "    a = np.random.randint(0, N) \n",
    "    b = np.random.randint(0, N)\n",
    "    random =  spin[a, b]\n",
    "\n",
    "        #recalculate energy a\n",
    "        \n",
    "    delta = spin[(a+1)%N,b] + spin[a,(b+1)%N] + spin[(a-1)%N,b] + spin[a,(b-1)%N]\n",
    "\n",
    "    new_energy = random*delta*2\n",
    "    \n",
    "    #This uses metropolis hastings method as described above\n",
    "    if new_energy < 0:\n",
    "        random *= -1\n",
    "    elif np.random.rand() < np.exp(-new_energy*beta):\n",
    "        random *= -1\n",
    "                         \n",
    "    # ABOVE: modify for Metropolis-Hastings relative likelihoods\n",
    "    #if new system has higher energy, spin accepted with given probability \n",
    "    \n",
    "    spin[a, b] = random\n",
    "\n",
    "    #get_ising_plot_1(spin);\n",
    "\n",
    "    return spin"
   ]
  },
  {
   "cell_type": "markdown",
   "metadata": {},
   "source": [
    "##### Generate a plotly image from an array of spins 0.5 and -0.5 (Kat)\n",
    "def get_ising_plot(spin):\n",
    "    img = np.array(spin, dtype = object)\n",
    "    for i in range(len(spin[0])):\n",
    "        for j in range(len(spin[1])):\n",
    "            if spin[i,j] == 0.5:\n",
    "                img[i,j] = [255,255,255]\n",
    "            else:\n",
    "                img[i,j] = [0,0,0]\n",
    "    image = go.Image(z=img)\n",
    "    return image\n",
    "\n",
    "# Stich together plotly frames to create an animation (Kat)\n",
    "def get_ising_video(frames, initial_spin):\n",
    "    fig = go.Figure(\n",
    "    data=[get_ising_plot(initial_spin)], \n",
    "    layout=go.Layout(\n",
    "        title = \"Ising model demonstration\",\n",
    "        xaxis = {'showticklabels':False},\n",
    "        yaxis = {'showticklabels':False},\n",
    "        updatemenus=[dict(\n",
    "            type=\"buttons\",\n",
    "            buttons=[dict(label=\"Play\",\n",
    "                          method=\"animate\",\n",
    "                          args=[None, dict(frame=dict(duration=20))])])]\n",
    "        ), frames=frames )\n",
    "\n",
    "    return fig                         "
   ]
  },
  {
   "cell_type": "markdown",
   "metadata": {},
   "source": [
    "### "
   ]
  },
  {
   "cell_type": "code",
   "execution_count": null,
   "metadata": {},
   "outputs": [],
   "source": [
    "# Test Ava's Metropolis algorithm with video of Ising plot\n",
    "N = 20 # size of Ising array\n",
    "n = 10000 # number of Metropolis iterations\n",
    "spin = gen_random_conf(N) # initial Ising array\n",
    "initial_spin = spin\n",
    "frames = []\n",
    "\n",
    "for i in range(n):    \n",
    "    spin = copy.deepcopy(metropolis(N,spin))\n",
    "    frame = go.Frame(data = get_ising_plot(spin))\n",
    "    frames.append(frame)    \n",
    "    \n",
    "fig = get_ising_video(frames, initial_spin)\n",
    "fig.show()"
   ]
  },
  {
   "cell_type": "markdown",
   "metadata": {},
   "source": [
    "## Timing Tests"
   ]
  },
  {
   "cell_type": "code",
   "execution_count": null,
   "metadata": {},
   "outputs": [],
   "source": [
    "def iteration_time(it):\n",
    "    start_time_tot = time.time()\n",
    "    for i in range(it):\n",
    "        spin = gen_random_conf(10)\n",
    "        start_time_it = time.time()\n",
    "        metropolis(10, spin)\n",
    "        end_time_it = time.time()\n",
    "\n",
    "        #print(\"Iteration \" + str(i) + \": \" + str(end_time_it - start_time_it))\n",
    "\n",
    "    end_time_tot = time.time();   \n",
    "    print(\"It took \" + str(end_time_tot-start_time_tot) + \" seconds total to run \" + str(it) + \" iterations.\")\n",
    "\n",
    "iteration_time(10000)\n"
   ]
  },
  {
   "cell_type": "code",
   "execution_count": null,
   "metadata": {},
   "outputs": [],
   "source": [
    "def time_it():\n",
    "    spin = gen_random_conf(10)\n",
    "    start_time_it = time.time()\n",
    "    metropolis(10, spin)\n",
    "    end_time_it = time.time()\n",
    "    return end_time_it - start_time_it\n"
   ]
  },
  {
   "cell_type": "code",
   "execution_count": null,
   "metadata": {
    "scrolled": true
   },
   "outputs": [],
   "source": [
    "plt.ylabel(\"Duration (sec)\")\n",
    "plt.xlabel(\"Number of Iterations\")\n",
    "duration_array = []\n",
    "iteration_array = []\n",
    "for i in range(100):\n",
    "    duration_array.append(time_it())\n",
    "    iteration_array.append(i+1)\n",
    "\n",
    "\n",
    "#print(duration_array)\n",
    "#print(iteration_array)\n",
    "plt.plot(iteration_array, duration_array)\n"
   ]
  },
  {
   "cell_type": "markdown",
   "metadata": {},
   "source": [
    "# Ploting Temperature/Magnetization"
   ]
  },
  {
   "cell_type": "code",
   "execution_count": 5,
   "metadata": {},
   "outputs": [
    {
     "data": {
      "text/plain": [
       "array([[ 0.5, -0.5, -0.5,  0.5, -0.5, -0.5,  0.5,  0.5,  0.5,  0.5],\n",
       "       [ 0.5,  0.5, -0.5,  0.5, -0.5, -0.5, -0.5,  0.5, -0.5, -0.5],\n",
       "       [ 0.5, -0.5, -0.5,  0.5,  0.5,  0.5,  0.5,  0.5,  0.5, -0.5],\n",
       "       [-0.5,  0.5, -0.5, -0.5, -0.5, -0.5, -0.5,  0.5, -0.5, -0.5],\n",
       "       [-0.5,  0.5,  0.5, -0.5,  0.5, -0.5, -0.5, -0.5,  0.5,  0.5],\n",
       "       [ 0.5,  0.5, -0.5,  0.5, -0.5, -0.5,  0.5,  0.5,  0.5, -0.5],\n",
       "       [ 0.5, -0.5, -0.5,  0.5, -0.5, -0.5,  0.5, -0.5, -0.5, -0.5],\n",
       "       [-0.5,  0.5, -0.5,  0.5,  0.5,  0.5,  0.5, -0.5,  0.5,  0.5],\n",
       "       [ 0.5,  0.5,  0.5,  0.5, -0.5,  0.5, -0.5,  0.5,  0.5, -0.5],\n",
       "       [ 0.5,  0.5,  0.5,  0.5, -0.5,  0.5,  0.5,  0.5,  0.5,  0.5]])"
      ]
     },
     "execution_count": 5,
     "metadata": {},
     "output_type": "execute_result"
    }
   ],
   "source": [
    "#New metro function that uses beta as an input\n",
    "def metro(beta, spin):\n",
    "    \n",
    "    spin_shape = spin.shape\n",
    "    \n",
    "    if spin_shape[0] != spin_shape[1]:\n",
    "        print(\"This is not a square matrix\")\n",
    "        quit()\n",
    "        \n",
    "    elif spin_shape[0] == spin_shape[1]:\n",
    "        N = spin_shape[0]\n",
    "    \n",
    "    original_energy = calculate_energy(spin)\n",
    "    \n",
    "    new_spin = copy.deepcopy(spin)\n",
    "    \n",
    "    a = np.random.randint(0, N)\n",
    "    b = np.random.randint(0, N)\n",
    "    random =  spin[a, b]\n",
    "    \n",
    "    new_spin[a,b] *= -1\n",
    "    \n",
    "    new_energy = calculate_energy(new_spin)\n",
    "    \n",
    "    delta = new_energy - original_energy\n",
    "    \n",
    "    #for calculating local energy\n",
    "    #before_flip = spin[(a+1)%N,b]*random + spin[a,(b+1)%N]*random + spin[(a-1)%N,b]*random + spin[a,(b-1)%N]*random\n",
    "    \n",
    "    #temp_random = random*-1\n",
    "    \n",
    "    #after_flip = spin[(a+1)%N,b]*random + spin[a,(b+1)%N]*random + spin[(a-1)%N,b]*random + spin[a,(b-1)%N]*random\n",
    "    \n",
    "    #delta = after_flip - before_flip\n",
    "    chance = np.random.rand()\n",
    "    \n",
    "    if delta < 0:\n",
    "        final_spin = new_spin\n",
    "    elif chance <= np.exp(-new_energy*beta):\n",
    "        final_spin = new_spin\n",
    "    elif chance >np.exp(-new_energy*beta):\n",
    "        final_spin = spin\n",
    "        \n",
    "    \n",
    "    return final_spin\n",
    "\n",
    "metro(1,gen_random_conf(10))\n"
   ]
  },
  {
   "cell_type": "code",
   "execution_count": 15,
   "metadata": {},
   "outputs": [],
   "source": [
    "#Parameters\n",
    "temp_point = 1000         #  number of temperature points\n",
    "N = 10         #  size of the lattice, N x N\n",
    "iterations = 1000       #  number of MC sweeps for equilibration\n",
    "T  = np.linspace(1, 1000, temp_point); \n",
    "M = np.zeros(temp_point)"
   ]
  },
  {
   "cell_type": "code",
   "execution_count": 20,
   "metadata": {
    "scrolled": true
   },
   "outputs": [],
   "source": [
    "#Main code\n",
    "spin = gen_random_conf(N)         \n",
    "for x in range(temp_point):        # initialize\n",
    "    new_beta=1.0/T[x]\n",
    "    \n",
    "    for i in range(iterations):         # equilibrate\n",
    "        spin = metro(new_beta, spin)           # Monte Carlo moves    \n",
    "    mag = magnetism_sum(spin)        # calculate the magnetisation\n",
    "\n",
    "    # divide by number of sites and iteractions to obtain intensive values    \n",
    "    M[x] = (1/(N**2))*mag"
   ]
  },
  {
   "cell_type": "code",
   "execution_count": 21,
   "metadata": {
    "scrolled": false
   },
   "outputs": [
    {
     "data": {
      "image/png": "[encoded data removed]",
      "text/plain": [
       "<Figure size 432x288 with 1 Axes>"
      ]
     },
     "metadata": {
      "needs_background": "light"
     },
     "output_type": "display_data"
    }
   ],
   "source": [
    "plt.plot(T, M)\n",
    "plt.xlabel(\"Temperature\"); \n",
    "plt.ylabel(\"Magnetization \");"
   ]
  },
  {
   "cell_type": "code",
   "execution_count": null,
   "metadata": {},
   "outputs": [],
   "source": []
  }
 ],
 "metadata": {
  "kernelspec": {
   "display_name": "Python 3",
   "language": "python",
   "name": "python3"
  },
  "language_info": {
   "codemirror_mode": {
    "name": "ipython",
    "version": 3
   },
   "file_extension": ".py",
   "mimetype": "text/x-python",
   "name": "python",
   "nbconvert_exporter": "python",
   "pygments_lexer": "ipython3",
   "version": "3.7.7"
  }
 },
 "nbformat": 4,
 "nbformat_minor": 2
}
