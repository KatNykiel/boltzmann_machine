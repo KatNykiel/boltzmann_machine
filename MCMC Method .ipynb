{
 "cells": [
  {
   "cell_type": "code",
   "execution_count": 2,
   "metadata": {},
   "outputs": [],
   "source": [
    "import numpy as np\n",
    "\n",
    "def gen_random_conf(n):\n",
    "    #input: n = length of array = width of array\n",
    "    #output: random 10x10 array (-1/2's and +1/2's)\n",
    "    \n",
    "    A = np.random.choice([-0.5,0.5], size=(n,n))\n",
    "    \n",
    "    return(A)"
   ]
  },
  {
   "cell_type": "code",
   "execution_count": null,
   "metadata": {},
   "outputs": [],
   "source": [
    "#Compute energy as a function of J (i.e. assume J = 1)\n",
    "# This is inefficient but I think easier to understand \n",
    "# Loop over all spins\n",
    "def calculate_energy(N, spin):\n",
    "        \n",
    "    energy = 0\n",
    "    \n",
    "    for i in range(N):  # 0, N-1\n",
    "      for j in range(N): # 0, N-1\n",
    "        # calculate four interactions\n",
    "        for delta_i in range(-1,2,2):  # -1 and 1\n",
    "          ii = i + delta_i\n",
    "          if (ii < 0): \n",
    "            ii = ii + N\n",
    "          if (ii >=N): \n",
    "            ii = ii - N\n",
    "          energy = energy - spin[i,j]*spin[ii, j] #spin--> array name\n",
    "        \n",
    "        for delta_j in range(-1,2,2):  # -1 and 1\n",
    "          jj = j + delta_j\n",
    "          if (jj < 0): \n",
    "            jj = jj + N\n",
    "          if (jj >=N): \n",
    "            jj = jj - N\n",
    "          energy = energy - spin[i,j]*spin[i, jj] \n",
    "        \n",
    "        energy = energy * 0.5\n",
    "    \n",
    "\n",
    "    return energy"
   ]
  },
  {
   "cell_type": "code",
   "execution_count": 3,
   "metadata": {},
   "outputs": [],
   "source": [
    "def magnetism_sum(spin):\n",
    "    magnetism = np.sum(spin)\n",
    "    \n",
    "    return magnetism"
   ]
  },
  {
   "cell_type": "code",
   "execution_count": null,
   "metadata": {},
   "outputs": [],
   "source": []
  },
  {
   "cell_type": "code",
   "execution_count": null,
   "metadata": {},
   "outputs": [],
   "source": [
    "def metropolis(N, spin):\n",
    "    k = 8.617E-5 #boltzman constant (eV/K)\n",
    "    T = 300 #K\n",
    "    for i in range(N):\n",
    "        for j in range(N):\n",
    "            #random index\n",
    "            a = np.random.randint(0, N) \n",
    "            b = np.random.randint(0, N)\n",
    "            random =  spin[a, b]\n",
    "            \n",
    "            #recalculate energy a\n",
    "            for delta_a in range(-1,2,2):  # -1 and 1\n",
    "                aa = a + delta_a\n",
    "                if (a < 0): \n",
    "                    aa = aa + N\n",
    "                if (aa >=N): \n",
    "                    aa = aa - N\n",
    "                new_energy = new_energy - spin[a,b]*spin[aa, b] #spin--> array name\n",
    "        \n",
    "            for delta_b in range(-1,2,2):  # -1 and 1\n",
    "                bb = b + delta_b\n",
    "                if (bb < 0): \n",
    "                    bb = bb + N\n",
    "                if (bb >=N): \n",
    "                    bb = bb - N\n",
    "            new_energy = new_energy - spin[a,b]*spin[a, bb] \n",
    "        \n",
    "            new_energy = new_energy * 0.5\n",
    "            \n",
    "            if new_energy < 0:\n",
    "                random *= -1\n",
    "            #if new system has higher energy, spin accepted with given probability \n",
    "            elif rand() < np.exp(-new_energy*k*T):\n",
    "                random *= -1\n",
    "            spin[a, b] = random\n",
    "    return spin"
   ]
  }
 ],
 "metadata": {
  "kernelspec": {
   "display_name": "Python 3",
   "language": "python",
   "name": "python3"
  },
  "language_info": {
   "codemirror_mode": {
    "name": "ipython",
    "version": 3
   },
   "file_extension": ".py",
   "mimetype": "text/x-python",
   "name": "python",
   "nbconvert_exporter": "python",
   "pygments_lexer": "ipython3",
   "version": "3.7.7"
  }
 },
 "nbformat": 4,
 "nbformat_minor": 2
}
