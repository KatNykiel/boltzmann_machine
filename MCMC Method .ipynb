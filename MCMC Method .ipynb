{
 "cells": [
  {
   "cell_type": "code",
   "execution_count": 2,
   "metadata": {},
   "outputs": [],
   "source": [
    "import numpy as np\n",
    "import copy\n",
    "import plotly.graph_objects as go\n",
    "import time\n",
    "import matplotlib.pyplot as plt\n",
    "from numpy import random\n",
    "from numba import jit\n",
    "import copy"
   ]
  },
  {
   "cell_type": "code",
   "execution_count": 3,
   "metadata": {},
   "outputs": [],
   "source": [
    "#Function to create random square array\n",
    "def gen_random_conf(n):\n",
    "    #input: n = length of array = width of array\n",
    "    #output: random 10x10 array (-1/2's and +1/2's)\n",
    "    \n",
    "    A = np.random.choice([-1,1], size=(n,n))\n",
    "    \n",
    "    return(A)"
   ]
  },
  {
   "cell_type": "code",
   "execution_count": 4,
   "metadata": {},
   "outputs": [],
   "source": [
    "#Compute energy as a function of J (i.e. assume J = 1)\n",
    "@jit(nopython=True)\n",
    "def calculate_energy(spin):\n",
    "    \n",
    "    #Determine if array is square\n",
    "    spin_shape = spin.shape\n",
    "    \n",
    "    #Should end if array is not square\n",
    "    if spin_shape[0] != spin_shape[1]:\n",
    "        print(\"This is not a square matrix\")\n",
    "    #Continues code if array is square    \n",
    "    elif spin_shape[0] == spin_shape[1]:\n",
    "        N = spin_shape[0]\n",
    "        \n",
    "        energy = 0\n",
    "        J = 1\n",
    "\n",
    "        for i in range(N):  # 0, N-1\n",
    "          for j in range(N): # 0, N-1\n",
    "            # calculate four interactions\n",
    "            ii = i + -1\n",
    "            if (ii < 0): \n",
    "                ii = ii + N\n",
    "            if (ii >=N): \n",
    "                ii = ii - N\n",
    "            energy = energy + spin[i,j]*spin[ii, j] #spin--> array name\n",
    "\n",
    "            \n",
    "            jj = j + -1\n",
    "            if (jj < 0): \n",
    "                jj = jj + N\n",
    "            if (jj >=N): \n",
    "                jj = jj - N\n",
    "            energy = energy + spin[i,j]*spin[i, jj] \n",
    "\n",
    "            energy = -J * energy * 0.5\n",
    "    \n",
    "    return energy"
   ]
  },
  {
   "cell_type": "code",
   "execution_count": 5,
   "metadata": {},
   "outputs": [],
   "source": [
    "#Compute energy as a function of J (i.e. assume J = 1)\n",
    "@jit(nopython=True)\n",
    "def calculate_energy_2(spin):\n",
    "    \n",
    "    #Determine if array is square\n",
    "    spin_shape = spin.shape\n",
    "    \n",
    "    #Should end if array is not square\n",
    "    if spin_shape[0] != spin_shape[1]:\n",
    "        print(\"This is not a square matrix\")\n",
    "    #Continues code if array is square    \n",
    "    elif spin_shape[0] == spin_shape[1]:\n",
    "        N = spin_shape[0]\n",
    "        \n",
    "        energy = 0\n",
    "        J = 1\n",
    "\n",
    "        for i in range(N):  # 0, N-1\n",
    "          for j in range(N): # 0, N-1\n",
    "            # calculate four interactions\n",
    "            for delta_i in range(-1,2,2):  # -1 and 1\n",
    "              ii = i + delta_i\n",
    "              if (ii < 0): \n",
    "                ii = ii + N\n",
    "              if (ii >=N): \n",
    "                ii = ii - N\n",
    "              energy = energy + spin[i,j]*spin[ii, j] #spin--> array name\n",
    "\n",
    "            for delta_j in range(-1,2,2):  # -1 and 1\n",
    "              jj = j + delta_j\n",
    "              if (jj < 0): \n",
    "                jj = jj + N\n",
    "              if (jj >=N): \n",
    "                jj = jj - N\n",
    "              energy = energy + spin[i,j]*spin[i, jj] \n",
    "\n",
    "            energy = -J * energy * 0.5\n",
    "    \n",
    "    return energy"
   ]
  },
  {
   "cell_type": "code",
   "execution_count": 6,
   "metadata": {},
   "outputs": [],
   "source": [
    "#Sums all indices of array(magnetic sum)\n",
    "def magnetism_sum(spin):\n",
    "    magnetism = np.sum(spin)\n",
    "    return magnetism"
   ]
  },
  {
   "cell_type": "markdown",
   "metadata": {},
   "source": [
    "## Metropolis-Hastings code\n",
    "Generally we want to follow this Monte Carlo algorithm to determine how the Ising array changes over time\n",
    "1. Start with some given Ising array\n",
    "2. Propose a random change of spin\n",
    "3. Calculate the energy of the new configuration\n",
    "4. Determine if change is accepted\n",
    "    - if change lowers energy, accept it\n",
    "    - if change raises energy, accept it *with some given probability*\n",
    "\n",
    "There's a few different methods we can use to calculate this probability\n",
    "### Statistical mechanics\n",
    "Using *statistical mechanics*, the probability of finding a given state is given by\n",
    "$$ P = \\frac{e^{-\\beta H}}{Z} $$\n",
    "Where $\\beta = \\frac{1}{k_bT}$ and $Z$ is the **partition function**, given by \n",
    "$$ Z = \\sum_{states}e^{-\\beta H} $$\n",
    "However, this requires calculating energies of *all of the given states*, which scales as $2^{n_{spins}}$. \n",
    "\n",
    "This is pretty inefficient (i.e. for a 16x16 grid, $2^{16*16}\\approx n_{\\text{atoms in universe}}$)\n",
    "\n",
    "### Approximating the partition function\n",
    "A more reasonable approach is to randomly sample states and approximate an *average* energy of all states $\\bar{E}$, which is then used to calculate $Z$ \n",
    "\n",
    "$$ Z = n_{states}*\\bar{E}$$\n",
    "\n",
    "However, even this is flawed as there are more low-energy states than high-energy ones. For example, consider a randomly shuffled deck of cards. If 'disorder' is lower energy, there's many more 'disordered' configurations of the deck than 'ordered.' This makes it harder to calculate a true average\n",
    "\n",
    "### Metropolis-Hastings algorithm\n",
    "\n",
    "Instead of requiring us to calculate the partition function to evaluate probability, the *Metropolis-Hastings algorithm* allows us to compare **relative likelihoods** of the new and old configurations\n",
    "\n",
    "For example, say we propose a randomly flipped spin. We can write expressions for the probability of each configuration\n",
    "$$ P_{before} = \\frac{e^{-\\beta H_{before}}}{Z} \\quad  P_{after} = \\frac{e^{-\\beta H_{after}}}{Z} $$\n",
    "\n",
    "If we instead look at the relative likelihood, the difficult-to-compute partition function vanishes\n",
    "$$P = \\frac{P_{after}}{P_{before}} = \\frac{e^{-\\beta H_{after}}/Z}{e^{-\\beta H_{before}}/Z} = \\frac{e^{-\\beta H_{after}}}{e^{-\\beta H_{before}}} \\quad \\text{where }0<P<1$$\n",
    "\n",
    "This solves the difficult problem of calculating the partition function by only requiring that we know a function *proportional* to the probability density, without the need for normalization"
   ]
  },
  {
   "cell_type": "markdown",
   "metadata": {},
   "source": [
    "##### Generate a plotly image from an array of spins 0.5 and -0.5 (Kat)\n",
    "def get_ising_plot(spin):\n",
    "    img = np.array(spin, dtype = object)\n",
    "    for i in range(len(spin[0])):\n",
    "        for j in range(len(spin[1])):\n",
    "            if spin[i,j] == 0.5:\n",
    "                img[i,j] = [255,255,255]\n",
    "            else:\n",
    "                img[i,j] = [0,0,0]\n",
    "    image = go.Image(z=img)\n",
    "    return image\n",
    "\n",
    "# Stich together plotly frames to create an animation (Kat)\n",
    "def get_ising_video(frames, initial_spin):\n",
    "    fig = go.Figure(\n",
    "    data=[get_ising_plot(initial_spin)], \n",
    "    layout=go.Layout(\n",
    "        title = \"Ising model demonstration\",\n",
    "        xaxis = {'showticklabels':False},\n",
    "        yaxis = {'showticklabels':False},\n",
    "        updatemenus=[dict(\n",
    "            type=\"buttons\",\n",
    "            buttons=[dict(label=\"Play\",\n",
    "                          method=\"animate\",\n",
    "                          args=[None, dict(frame=dict(duration=20))])])]\n",
    "        ), frames=frames )\n",
    "\n",
    "    return fig                         "
   ]
  },
  {
   "cell_type": "markdown",
   "metadata": {},
   "source": [
    "## Video Example of Algorithm"
   ]
  },
  {
   "cell_type": "code",
   "execution_count": 5,
   "metadata": {},
   "outputs": [
    {
     "ename": "NameError",
     "evalue": "name 'metro' is not defined",
     "output_type": "error",
     "traceback": [
      "\u001b[0;31m---------------------------------------------------------------------------\u001b[0m",
      "\u001b[0;31mNameError\u001b[0m                                 Traceback (most recent call last)",
      "\u001b[0;32m<ipython-input-5-7e13fe71bb93>\u001b[0m in \u001b[0;36m<module>\u001b[0;34m\u001b[0m\n\u001b[1;32m      7\u001b[0m \u001b[0;34m\u001b[0m\u001b[0m\n\u001b[1;32m      8\u001b[0m \u001b[0;32mfor\u001b[0m \u001b[0mi\u001b[0m \u001b[0;32min\u001b[0m \u001b[0mrange\u001b[0m\u001b[0;34m(\u001b[0m\u001b[0mn\u001b[0m\u001b[0;34m)\u001b[0m\u001b[0;34m:\u001b[0m\u001b[0;34m\u001b[0m\u001b[0;34m\u001b[0m\u001b[0m\n\u001b[0;32m----> 9\u001b[0;31m     \u001b[0mspin\u001b[0m \u001b[0;34m=\u001b[0m \u001b[0mcopy\u001b[0m\u001b[0;34m.\u001b[0m\u001b[0mdeepcopy\u001b[0m\u001b[0;34m(\u001b[0m\u001b[0mmetro\u001b[0m\u001b[0;34m(\u001b[0m\u001b[0;36m1\u001b[0m\u001b[0;34m,\u001b[0m\u001b[0mspin\u001b[0m\u001b[0;34m)\u001b[0m\u001b[0;34m)\u001b[0m\u001b[0;34m\u001b[0m\u001b[0;34m\u001b[0m\u001b[0m\n\u001b[0m\u001b[1;32m     10\u001b[0m     \u001b[0mframe\u001b[0m \u001b[0;34m=\u001b[0m \u001b[0mgo\u001b[0m\u001b[0;34m.\u001b[0m\u001b[0mFrame\u001b[0m\u001b[0;34m(\u001b[0m\u001b[0mdata\u001b[0m \u001b[0;34m=\u001b[0m \u001b[0mget_ising_plot\u001b[0m\u001b[0;34m(\u001b[0m\u001b[0mspin\u001b[0m\u001b[0;34m)\u001b[0m\u001b[0;34m)\u001b[0m\u001b[0;34m\u001b[0m\u001b[0;34m\u001b[0m\u001b[0m\n\u001b[1;32m     11\u001b[0m     \u001b[0mframes\u001b[0m\u001b[0;34m.\u001b[0m\u001b[0mappend\u001b[0m\u001b[0;34m(\u001b[0m\u001b[0mframe\u001b[0m\u001b[0;34m)\u001b[0m\u001b[0;34m\u001b[0m\u001b[0;34m\u001b[0m\u001b[0m\n",
      "\u001b[0;31mNameError\u001b[0m: name 'metro' is not defined"
     ]
    }
   ],
   "source": [
    "# Test Ava's Metropolis algorithm with video of Ising plot\n",
    "N = 20 # size of Ising array\n",
    "n = 10000 # number of Metropolis iterations\n",
    "spin = gen_random_conf(N) # initial Ising array\n",
    "initial_spin = spin\n",
    "frames = []\n",
    "\n",
    "for i in range(n):    \n",
    "    spin = copy.deepcopy(metro(1,spin))\n",
    "    frame = go.Frame(data = get_ising_plot(spin))\n",
    "    frames.append(frame)    \n",
    "    \n",
    "fig = get_ising_video(frames, initial_spin)\n",
    "fig.show()"
   ]
  },
  {
   "cell_type": "markdown",
   "metadata": {},
   "source": [
    "## Timing Tests"
   ]
  },
  {
   "cell_type": "code",
   "execution_count": null,
   "metadata": {},
   "outputs": [],
   "source": [
    "def iteration_time(it):\n",
    "    start_time_tot = time.time()\n",
    "    for i in range(it):\n",
    "        spin = gen_random_conf(10)\n",
    "        start_time_it = time.time()\n",
    "        metropolis(10, spin)\n",
    "        end_time_it = time.time()\n",
    "\n",
    "        #print(\"Iteration \" + str(i) + \": \" + str(end_time_it - start_time_it))\n",
    "\n",
    "    end_time_tot = time.time();   \n",
    "    print(\"It took \" + str(end_time_tot-start_time_tot) + \" seconds total to run \" + str(it) + \" iterations.\")\n",
    "\n",
    "iteration_time(1000)\n"
   ]
  },
  {
   "cell_type": "code",
   "execution_count": null,
   "metadata": {},
   "outputs": [],
   "source": [
    "def time_it():\n",
    "    spin = gen_random_conf(10)\n",
    "    start_time_it = time.time()\n",
    "    metropolis(10, spin)\n",
    "    end_time_it = time.time()\n",
    "    return end_time_it - start_time_it\n"
   ]
  },
  {
   "cell_type": "code",
   "execution_count": null,
   "metadata": {
    "scrolled": true
   },
   "outputs": [],
   "source": [
    "plt.ylabel(\"Duration (sec)\")\n",
    "plt.xlabel(\"Number of Iterations\")\n",
    "duration_array = []\n",
    "iteration_array = []\n",
    "for i in range(100):\n",
    "    duration_array.append(time_it())\n",
    "    iteration_array.append(i+1)\n",
    "\n",
    "\n",
    "#print(duration_array)\n",
    "#print(iteration_array)\n",
    "plt.plot(iteration_array, duration_array)\n"
   ]
  },
  {
   "cell_type": "markdown",
   "metadata": {},
   "source": [
    "## Standard Deviation \n",
    "\n",
    "$$ StandardDeviation =  <E_i^{2}> - <E>^{2}$$"
   ]
  },
  {
   "cell_type": "code",
   "execution_count": 5,
   "metadata": {},
   "outputs": [],
   "source": [
    "#Function to ccalculate standard deviatiopn of a data set\n",
    "#@jit(nopython=True)\n",
    "def stan_dev(data):\n",
    "    #Initialize variables (values: used for (Ei^2); avg: used for <E>^2\n",
    "    values = 0\n",
    "    avg = 0\n",
    "    #Number of values in array\n",
    "    n = len(data)\n",
    "    #Sums the square of each value in array \n",
    "    for i in range(n):\n",
    "        values += data[i]**2\n",
    "    #Finds average of the sum\n",
    "    values = values/n\n",
    "    #data = np.array(data)\n",
    "    avg = np.average(data)\n",
    "\n",
    "    return (values - (avg**2))**(0.5)"
   ]
  },
  {
   "cell_type": "code",
   "execution_count": 6,
   "metadata": {},
   "outputs": [
    {
     "data": {
      "text/plain": [
       "0.2870560964302155"
      ]
     },
     "execution_count": 6,
     "metadata": {},
     "output_type": "execute_result"
    }
   ],
   "source": [
    "stans = []\n",
    "for i in range(1000):\n",
    "    stans.append(np.random.rand())\n",
    "\n",
    "stan_dev(stans)"
   ]
  },
  {
   "cell_type": "markdown",
   "metadata": {},
   "source": [
    "\n",
    "\n",
    "\n",
    "# Ploting Temperature vs. Magnetization/Energy"
   ]
  },
  {
   "cell_type": "code",
   "execution_count": 7,
   "metadata": {},
   "outputs": [],
   "source": [
    "#Metropolis function that uses beta as an input\n",
    "#@jit(nopython = True)\n",
    "def metro(beta, spin):\n",
    "    \n",
    "    #Confirm that spin is a square array\n",
    "    spin_shape = spin.shape \n",
    "    \n",
    "    if spin_shape[0] != spin_shape[1]:\n",
    "        print(\"This is not a square matrix\")\n",
    "        return   \n",
    "    elif spin_shape[0] == spin_shape[1]:\n",
    "        N = spin_shape[0]\n",
    "    \n",
    "    #Choose random index\n",
    "    a = np.random.randint(0, N)\n",
    "    b = np.random.randint(0, N)\n",
    "    random =  spin[a, b]\n",
    "    \n",
    "    \n",
    "    #Calulate difference between original isolated energy and new isolated energy\n",
    "    J = 1\n",
    "    before_flip = -J*(spin[(a+1)%N,b]*random + spin[a,(b+1)%N]*random + spin[(a-1)%N,b]*random + spin[a,(b-1)%N]*random)\n",
    "    random = random*-1\n",
    "    after_flip = -J*(spin[(a+1)%N,b]*random + spin[a,(b+1)%N]*random + spin[(a-1)%N,b]*random + spin[a,(b-1)%N]*random)\n",
    "    delta = after_flip - before_flip\n",
    "    \n",
    "    #Deteremine randome float for comparing probability to\n",
    "    chance = np.random.rand()\n",
    "    \n",
    "    #Accept change if: 1) energy is lowered or 2) probabilty is under random value\n",
    "    if delta < 0:\n",
    "        spin[a,b] *= -1\n",
    "    elif chance <= np.exp(-delta*beta):\n",
    "        spin[a,b] *= -1\n",
    "    elif chance >np.exp(-delta*beta):\n",
    "        spin[a,b] *= 1\n",
    "        \n",
    "    return spin\n"
   ]
  },
  {
   "cell_type": "code",
   "execution_count": 8,
   "metadata": {},
   "outputs": [],
   "source": [
    "#Parameters\n",
    "\n",
    "#Number of temperature points on graph\n",
    "temp_point = 50 #Prof. Strachan recomended 50 tmep points\n",
    "#Size of lattice\n",
    "N = 10\n",
    "#Number of Metropolis sweeps performed\n",
    "equi_iterations = 1000\n",
    "metro_iterations = 10000*(N**2)\n",
    "#Temperate range\n",
    "T = np.linspace(0.0001, 5, temp_point);\n",
    "#Creates arrays to store magetism/energy points\n",
    "M = np.zeros(temp_point)\n",
    "E = np.zeros(temp_point)\n",
    "#Create arrays to store standard deviation\n",
    "mag_std = np.zeros(temp_point)\n",
    "ene_std = np.zeros(temp_point)"
   ]
  },
  {
   "cell_type": "code",
   "execution_count": null,
   "metadata": {},
   "outputs": [
    {
     "name": "stderr",
     "output_type": "stream",
     "text": [
      "/apps/share64/debian7/anaconda/anaconda-6/lib/python3.7/site-packages/ipykernel_launcher.py:46: RuntimeWarning: invalid value encountered in sqrt\n"
     ]
    }
   ],
   "source": [
    "start_time_tot = time.time()\n",
    "for x in range(temp_point):  \n",
    "    #Initalizes array for each temperature point\n",
    "    spin = gen_random_conf(N)\n",
    "    #Calculates beta for each temperature point\n",
    "    new_beta=1.0/(T[x]) \n",
    "    \n",
    "    #Counts metro steps run for each temperature point\n",
    "    s = 0\n",
    "    \n",
    "    \n",
    "\n",
    "    #final_mag = []\n",
    "    #final_ene = []\n",
    "    ave_energy, ave_energy2, ave_mag, ave_mag2 = 0,0,0,0\n",
    "    count = 0\n",
    "    \n",
    "    #Equilibriation\n",
    "    for i in range(equi_iterations):\n",
    "        spin = metro(new_beta, spin) \n",
    "    #Metropolis sweeps \n",
    "    for i in range(metro_iterations):\n",
    "        \n",
    "        s += 1\n",
    "        \n",
    "        #Inner for loop used to record only every 10 MC sweeps\n",
    "        spin = metro(new_beta, spin)\n",
    "        if s%10 == 0:\n",
    "            \n",
    "        #Calculates magnetism/energy for each temperature point\n",
    "            mag = magnetism_sum(spin) \n",
    "            ene = calculate_energy(spin)\n",
    "            ave_energy += ene\n",
    "            ave_energy2 += ene*ene\n",
    "            ave_mag += mag\n",
    "            ave_mag2 += mag*mag\n",
    "            count += 1\n",
    "    \n",
    "    #Take average of all sampled points for given temperature\n",
    "    ave_energy = ave_energy/(count)\n",
    "    ave_energy2 = ave_energy2/(count)\n",
    "    ave_mag = ave_mag/(count)\n",
    "    ave_mag2 = ave_mag2/(count)\n",
    "    \n",
    "    #Append standard deviation to array\n",
    "    ene_std[x] = np.sqrt(ave_energy2 - ave_energy*ave_energy)\n",
    "    mag_std[x] = np.sqrt(ave_mag2 - ave_mag*ave_mag)\n",
    "    \n",
    "    \n",
    "    #Divide by number of sites and append to array\n",
    "    M[x] = (1/(N**2))*ave_mag\n",
    "    E[x] = (1/(N**2))*ave_energy\n",
    "    \n",
    "end_time_tot = time.time();\n",
    "\n",
    "print (np.average(ene_std))\n",
    "print (np.average(mag_std))\n",
    "\n",
    "print(\"It took \" + str(end_time_tot-start_time_tot) + \" seconds total to run \" + str(metro_iterations) + \" iterations.\")"
   ]
  },
  {
   "cell_type": "code",
   "execution_count": null,
   "metadata": {
    "scrolled": false
   },
   "outputs": [],
   "source": [
    "plt.title(\"Energy vs. Temperature\") \n",
    "plt.xlabel(\"Temperature Scale (T*)\"); \n",
    "plt.ylabel(\"Energy\"); \n",
    "plt.plot(T, E) \n",
    "plt.show()\n",
    "\n",
    "plt.title(\"Magnetism vs. Temperature\")  \n",
    "plt.xlabel(\"Temperature Scale (T*)\"); \n",
    "plt.ylabel(\"Magnetization\"); \n",
    "plt.plot(T, abs(M))\n",
    "plt.show()\n",
    "\n"
   ]
  },
  {
   "cell_type": "code",
   "execution_count": null,
   "metadata": {},
   "outputs": [],
   "source": []
  }
 ],
 "metadata": {
  "kernelspec": {
   "display_name": "Python 3",
   "language": "python",
   "name": "python3"
  },
  "language_info": {
   "codemirror_mode": {
    "name": "ipython",
    "version": 3
   },
   "file_extension": ".py",
   "mimetype": "text/x-python",
   "name": "python",
   "nbconvert_exporter": "python",
   "pygments_lexer": "ipython3",
   "version": "3.7.7"
  }
 },
 "nbformat": 4,
 "nbformat_minor": 2
}
